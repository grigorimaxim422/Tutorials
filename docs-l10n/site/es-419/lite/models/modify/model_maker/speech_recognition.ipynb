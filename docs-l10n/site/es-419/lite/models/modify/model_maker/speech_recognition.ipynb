{
  "cells": [
    {
      "cell_type": "markdown",
      "metadata": {
        "id": "3XX46cTrh6iD"
      },
      "source": [
        "##### Copyright 2022 The TensorFlow Authors."
      ]
    },
    {
      "cell_type": "code",
      "execution_count": null,
      "metadata": {
        "cellView": "form",
        "id": "sKrlWr6Kh-mF"
      },
      "outputs": [],
      "source": [
        "#@title Licensed under the Apache License, Version 2.0 (the \"License\");\n",
        "# you may not use this file except in compliance with the License.\n",
        "# You may obtain a copy of the License at\n",
        "#\n",
        "# https://www.apache.org/licenses/LICENSE-2.0\n",
        "#\n",
        "# Unless required by applicable law or agreed to in writing, software\n",
        "# distributed under the License is distributed on an \"AS IS\" BASIS,\n",
        "# WITHOUT WARRANTIES OR CONDITIONS OF ANY KIND, either express or implied.\n",
        "# See the License for the specific language governing permissions and\n",
        "# limitations under the License."
      ]
    },
    {
      "cell_type": "markdown",
      "metadata": {
        "id": "hST65kOHXpiL"
      },
      "source": [
        "# Reentrenar un modelo de reconocimiento del habla con Model Maker de TensorFlow Lite\n"
      ]
    },
    {
      "cell_type": "markdown",
      "metadata": {
        "id": "nShlCXGkbRVA"
      },
      "source": [
        "<table class=\"tfo-notebook-buttons\" align=\"left\">\n",
        "  <td><a target=\"_blank\" href=\"https://www.tensorflow.org/lite/models/modify/model_maker/speech_recognition\"><img src=\"https://www.tensorflow.org/images/tf_logo_32px.png\">Ver en TensorFlow.org</a></td>\n",
        "  <td><a target=\"_blank\" href=\"https://colab.research.google.com/github/tensorflow/docs-l10n/blob/master/site/es-419/lite/models/modify/model_maker/speech_recognition.ipynb\"><img src=\"https://www.tensorflow.org/images/colab_logo_32px.png\">Ejecutar en Google Colab</a></td>\n",
        "  <td>     <a target=\"_blank\" href=\"https://github.com/tensorflow/docs-l10n/blob/master/site/es-419/lite/models/modify/model_maker/speech_recognition.ipynb\"><img src=\"https://www.tensorflow.org/images/GitHub-Mark-32px.png\">Ver fuente en GitHub</a>\n",
        "</td>\n",
        "  <td><a href=\"https://storage.googleapis.com/tensorflow_docs/docs-l10n/site/es-419/lite/models/modify/model_maker/speech_recognition.ipynb\"><img src=\"https://www.tensorflow.org/images/download_logo_32px.png\">Descargar el bloc de notas</a></td>\n",
        "</table>"
      ]
    },
    {
      "cell_type": "markdown",
      "metadata": {
        "id": "BB5k6xNKJ5Xe"
      },
      "source": [
        "En este bloc de colab, aprenderá a usar el [Model Maker de TensorFlow Lite](https://www.tensorflow.org/lite/models/modify/model_maker) para entrenar un modelo de reconocimiento del habla que pueda clasificar palabras habladas o frases cortas utilizando muestreos de sonido de un segundo. La librería Model Maker utiliza el aprendizaje por transferencia para volver a entrenar un modelo TensorFlow existente con un nuevo conjunto de datos, lo que reduce la cantidad de datos de muestra y el tiempo necesario para el entrenamiento.\n",
        "\n",
        "De forma predeterminada, este bloc vuelve a entrenar el modelo (BrowserFft, del [reconocedor de comandos de voz TFJS](https://github.com/tensorflow/tfjs-models/tree/master/speech-commands#speech-command-recognizer)) usando un subconjunto de palabras del [conjunto de datos de comandos de voz ](https://www.tensorflow.org/datasets/catalog/speech_commands) (como \"up\", \"down\", \"left\" y \"right\"). A continuación, exporta un modelo TFLite que puede ejecutar en un dispositivo móvil o un sistema integrado (como una Raspberry Pi). También exporta el modelo entrenado como un TensorFlow SavedModel.\n",
        "\n",
        "Este bloc también está diseñado para aceptar un conjunto de datos personalizado de archivos WAV, cargados en Colab en un archivo ZIP. Cuantas más muestras tenga para cada clase, mayor será su precisión, pero como el proceso de aprendizaje por transferencia usa incrustaciones de características del modelo preentrenado, aún puede obtener un modelo bastante preciso con sólo unas pocas docenas de muestreos en cada una de sus clases.\n",
        "\n",
        "**Nota:** El modelo que vamos a entrenar está optimizado para el reconocimiento del habla con muestras de un segundo. Si desea realizar una clasificación de audio más genérica (como detectar diferentes tipos de música), le sugerimos que en su lugar siga [este Colab para volver a entrenar un clasificador de audio](https://colab.sandbox.google.com/github/tensorflow/tensorflow/blob/master/tensorflow/lite/g3doc/models/modify/model_maker/audio_classification.ipynb).\n",
        "\n",
        "Si desea ejecutar el bloc de notas con el conjunto de datos de habla predeterminado, puede ejecutarlo todo ahora haciendo clic en **Runtime &gt; Ejecutar todos** en la barra de herramientas de Colab. Sin embargo, si desea usar su propio conjunto de datos, continúe hasta [Preparar el conjunto de datos](#scrollTo=cBsSAeYLkc1Z) y siga las instrucciones que allí se indican.\n"
      ]
    },
    {
      "cell_type": "markdown",
      "metadata": {
        "id": "AeZZ_cSsZfPx"
      },
      "source": [
        "### Importar los paquetes necesarios\n"
      ]
    },
    {
      "cell_type": "markdown",
      "metadata": {
        "id": "MelHQlE7FVue"
      },
      "source": [
        "Necesitará TensorFlow, Model Maker de TFLite y algunos módulos para manipulación de audio, reproducción y visualizaciones."
      ]
    },
    {
      "cell_type": "code",
      "execution_count": null,
      "metadata": {
        "id": "wbMc4vHjaYdQ"
      },
      "outputs": [],
      "source": [
        "!sudo apt -y install libportaudio2\n",
        "!pip install tflite-model-maker"
      ]
    },
    {
      "cell_type": "code",
      "execution_count": null,
      "metadata": {
        "id": "rwUA9u4oWoCR"
      },
      "outputs": [],
      "source": [
        "import os\n",
        "import glob\n",
        "import random\n",
        "import shutil\n",
        "\n",
        "import librosa\n",
        "import soundfile as sf\n",
        "from IPython.display import Audio\n",
        "import numpy as np\n",
        "import matplotlib.pyplot as plt\n",
        "import seaborn as sns\n",
        "\n",
        "import tensorflow as tf\n",
        "import tflite_model_maker as mm\n",
        "from tflite_model_maker import audio_classifier\n",
        "from tflite_model_maker.config import ExportFormat\n",
        "\n",
        "print(f\"TensorFlow Version: {tf.__version__}\")\n",
        "print(f\"Model Maker Version: {mm.__version__}\")"
      ]
    },
    {
      "cell_type": "markdown",
      "metadata": {
        "id": "cBsSAeYLkc1Z"
      },
      "source": [
        "## Preparar el conjunto de datos"
      ]
    },
    {
      "cell_type": "markdown",
      "metadata": {
        "id": "NTTSXJxJq2Bz"
      },
      "source": [
        "Para realizar el entrenamiento con el conjunto de datos de habla predeterminado, basta con ejecutar todo el código siguiente tal cual.\n",
        "\n",
        "Pero si desea entrenarse con su propio conjunto de datos de habla, siga estos pasos:\n",
        "\n",
        "**Nota:** El modelo que volverá a entrenar espera que los datos de entrada sean aproximadamente un segundo de audio a 44.1 kHz. Model Maker realiza un remuestreo automático para el conjunto de datos de entrenamiento, por lo que no hay necesidad de remuestrear su conjunto de datos si tiene una frecuencia de muestreo distinta de 44.1 kHz. Pero tenga en cuenta que las muestras de audio de más de un segundo se dividirán en múltiples trozos de un segundo, y el trozo final se descartará si es inferior a un segundo.\n",
        "\n",
        "1. Asegúrese de que cada muestra de su conjunto de datos está en formato de archivo **WAV, de aproximadamente un segundo de duración**. Después cree un archivo ZIP con todos sus archivos WAV, organizados en subcarpetas separadas para cada clasificación. Por ejemplo, cada muestra para un comando de voz \"yes\" debe estar en una subcarpeta llamada \"yes\". Incluso si sólo tiene una clase, las muestras deben guardarse en un subdirectorio con el nombre de la clase como nombre del directorio. Este script asume que su conjunto de datos **no está dividido** en conjuntos de entrenamiento/validación/prueba y realiza esa división por usted.\n",
        "2. Haga clic en la pestaña **Archivos** del panel izquierdo y arrastre y suelte allí su archivo ZIP para cargarlo.\n",
        "3. Utilice la siguiente opción desplegable para establecer **`use_custom_dataset`** en verdadero.\n",
        "4. A continuación, pase a [Preparar un conjunto de datos de audio personalizado](#scrollTo=EobYerLQkiF1) para especificar el nombre de su archivo ZIP y el nombre del directorio del conjunto de datos.\n"
      ]
    },
    {
      "cell_type": "code",
      "execution_count": null,
      "metadata": {
        "cellView": "form",
        "id": "AK9o98X7qyhU"
      },
      "outputs": [],
      "source": [
        "use_custom_dataset = False #@param [\"False\", \"True\"] {type:\"raw\"}"
      ]
    },
    {
      "cell_type": "markdown",
      "metadata": {
        "id": "D2sNXbYVHjjy"
      },
      "source": [
        "### Generar un conjunto de datos de ruido de fondo"
      ]
    },
    {
      "cell_type": "markdown",
      "metadata": {
        "id": "gBVClNMwHtMD"
      },
      "source": [
        "Tanto si usa el conjunto de datos de habla predeterminado como uno personalizado, debe disponer de un buen conjunto de ruidos de fondo para que su modelo pueda distinguir el habla de otros ruidos (incluido el silencio).\n",
        "\n",
        "Dado que las siguientes muestras de fondo se proporcionan en archivos WAV de un minuto de duración o más, tenemos que dividirlas en muestras más pequeñas de un segundo para poder reservar algunas para nuestro conjunto de datos de prueba. También combinaremos un par de fuentes de muestras diferentes para crear un conjunto completo de ruidos y silencios de fondo:"
      ]
    },
    {
      "cell_type": "code",
      "execution_count": null,
      "metadata": {
        "id": "qvJd9VfmHu29"
      },
      "outputs": [],
      "source": [
        "tf.keras.utils.get_file('speech_commands_v0.01.tar.gz',\n",
        "                        'http://download.tensorflow.org/data/speech_commands_v0.01.tar.gz',\n",
        "                        cache_dir='./',\n",
        "                        cache_subdir='dataset-speech',\n",
        "                        extract=True)\n",
        "tf.keras.utils.get_file('background_audio.zip',\n",
        "                        'https://storage.googleapis.com/download.tensorflow.org/models/tflite/sound_classification/background_audio.zip',\n",
        "                        cache_dir='./',\n",
        "                        cache_subdir='dataset-background',\n",
        "                        extract=True)\n"
      ]
    },
    {
      "cell_type": "markdown",
      "metadata": {
        "id": "7CAVFc3woB3_"
      },
      "source": [
        "**Nota:** Aunque hay una versión más reciente disponible, estamos usando la v0.01 del conjunto de datos de comandos de voz porque es una descarga más pequeña. La v0.01 incluye 30 comandos, mientras que la v0.02 añade cinco más (\"backward\", \"forward\", \"follow\", \"learn\" y \"visual\")."
      ]
    },
    {
      "cell_type": "code",
      "execution_count": null,
      "metadata": {
        "id": "xgwWNifGL-3b"
      },
      "outputs": [],
      "source": [
        "# Create a list of all the background wav files\n",
        "files = glob.glob(os.path.join('./dataset-speech/_background_noise_', '*.wav'))\n",
        "files = files + glob.glob(os.path.join('./dataset-background', '*.wav'))\n",
        "\n",
        "background_dir = './background'\n",
        "os.makedirs(background_dir, exist_ok=True)\n",
        "\n",
        "# Loop through all files and split each into several one-second wav files\n",
        "for file in files:\n",
        "  filename = os.path.basename(os.path.normpath(file))\n",
        "  print('Splitting', filename)\n",
        "  name = os.path.splitext(filename)[0]\n",
        "  rate = librosa.get_samplerate(file)\n",
        "  length = round(librosa.get_duration(filename=file))\n",
        "  for i in range(length - 1):\n",
        "    start = i * rate\n",
        "    stop = (i * rate) + rate\n",
        "    data, _ = sf.read(file, start=start, stop=stop)\n",
        "    sf.write(os.path.join(background_dir, name + str(i) + '.wav'), data, rate)"
      ]
    },
    {
      "cell_type": "markdown",
      "metadata": {
        "id": "bVlvVq-SkeeO"
      },
      "source": [
        "### Preparar el conjunto de datos de comandos de voz"
      ]
    },
    {
      "cell_type": "markdown",
      "metadata": {
        "id": "q_q22T5UHbJG"
      },
      "source": [
        "Ya hemos descargado el conjunto de datos de comandos de voz, así que ahora sólo tenemos que podar el número de clases para nuestro modelo.\n",
        "\n",
        "Este conjunto de datos incluye más de 30 clasificaciones de órdenes del habla, y la mayoría de ellas tienen más de 2,000 muestras. Pero como estamos usando el aprendizaje por transferencia, no necesitamos tantas muestras. Así que el código siguiente hace algunas cosas:\n",
        "\n",
        "- Especificar qué clasificaciones queremos usar y elimine el resto.\n",
        "- Mantener sólo 150 muestras de cada clase para el entrenamiento (para demostrar que el aprendizaje por transferencia funciona bien con conjuntos de datos más pequeños y simplemente para reducir el tiempo de entrenamiento).\n",
        "- Crear un directorio separado para un conjunto de datos de prueba para que podamos ejecutar fácilmente la inferencia con ellos más tarde."
      ]
    },
    {
      "cell_type": "code",
      "execution_count": null,
      "metadata": {
        "id": "zUSRpw2nOp8p"
      },
      "outputs": [],
      "source": [
        "if not use_custom_dataset:\n",
        "  commands = [ \"up\", \"down\", \"left\", \"right\", \"go\", \"stop\", \"on\", \"off\", \"background\"]\n",
        "  dataset_dir = './dataset-speech'\n",
        "  test_dir = './dataset-test'\n",
        "\n",
        "  # Move the processed background samples\n",
        "  shutil.move(background_dir, os.path.join(dataset_dir, 'background'))   \n",
        "\n",
        "  # Delete all directories that are not in our commands list\n",
        "  dirs = glob.glob(os.path.join(dataset_dir, '*/'))\n",
        "  for dir in dirs:\n",
        "    name = os.path.basename(os.path.normpath(dir))\n",
        "    if name not in commands:\n",
        "      shutil.rmtree(dir)\n",
        "\n",
        "  # Count is per class\n",
        "  sample_count = 150\n",
        "  test_data_ratio = 0.2\n",
        "  test_count = round(sample_count * test_data_ratio)\n",
        "\n",
        "  # Loop through child directories (each class of wav files)\n",
        "  dirs = glob.glob(os.path.join(dataset_dir, '*/'))\n",
        "  for dir in dirs:\n",
        "    files = glob.glob(os.path.join(dir, '*.wav'))\n",
        "    random.seed(42)\n",
        "    random.shuffle(files)\n",
        "    # Move test samples:\n",
        "    for file in files[sample_count:sample_count + test_count]:\n",
        "      class_dir = os.path.basename(os.path.normpath(dir))\n",
        "      os.makedirs(os.path.join(test_dir, class_dir), exist_ok=True)\n",
        "      os.rename(file, os.path.join(test_dir, class_dir, os.path.basename(file)))\n",
        "    # Delete remaining samples\n",
        "    for file in files[sample_count + test_count:]:\n",
        "      os.remove(file)"
      ]
    },
    {
      "cell_type": "markdown",
      "metadata": {
        "id": "EobYerLQkiF1"
      },
      "source": [
        "### Preparar el conjunto de datos personalizado"
      ]
    },
    {
      "cell_type": "markdown",
      "metadata": {
        "id": "f3xTvDP3knMd"
      },
      "source": [
        "Si desea entrenar el modelo con nuestro propio conjunto de datos de habla, deberá cargar sus muestras como archivos WAV en un ZIP ([como se ha descrito anteriormente](#scrollTo=cBsSAeYLkc1Z)) y modificar las siguientes variables para especificar su conjunto de datos:"
      ]
    },
    {
      "cell_type": "code",
      "execution_count": null,
      "metadata": {
        "id": "77PsQAKA4Arx"
      },
      "outputs": [],
      "source": [
        "if use_custom_dataset:\n",
        "  # Specify the ZIP file you uploaded:\n",
        "  !unzip YOUR-FILENAME.zip\n",
        "  # Specify the unzipped path to your custom dataset\n",
        "  # (this path contains all the subfolders with classification names):\n",
        "  dataset_dir = './YOUR-DIRNAME'"
      ]
    },
    {
      "cell_type": "markdown",
      "metadata": {
        "id": "hwp6EQqvttgf"
      },
      "source": [
        "Tras cambiar el nombre del archivo y el nombre de la ruta anteriores, estará listo para entrenar el modelo con su conjunto de datos personalizado. En la barra de herramientas de Colab, seleccione **Runtime &gt; Ejecutar todo** para ejecutar todo el bloc de notas.\n",
        "\n",
        "El código siguiente integra nuestras nuevas muestras de ruido de fondo en su conjunto de datos y, a continuación, separa una parte de todas las muestras para crear un conjunto de prueba."
      ]
    },
    {
      "cell_type": "code",
      "execution_count": null,
      "metadata": {
        "id": "tMQ6cpw_B9e_"
      },
      "outputs": [],
      "source": [
        "def move_background_dataset(dataset_dir):\n",
        "  dest_dir = os.path.join(dataset_dir, 'background')\n",
        "  if os.path.exists(dest_dir):\n",
        "    files = glob.glob(os.path.join(background_dir, '*.wav'))\n",
        "    for file in files:\n",
        "      shutil.move(file, dest_dir)\n",
        "  else:\n",
        "    shutil.move(background_dir, dest_dir)"
      ]
    },
    {
      "cell_type": "code",
      "execution_count": null,
      "metadata": {
        "id": "45iru8OdliG3"
      },
      "outputs": [],
      "source": [
        "if use_custom_dataset:\n",
        "  # Move background samples into custom dataset\n",
        "  move_background_dataset(dataset_dir)\n",
        "\n",
        "  # Now we separate some of the files that we'll use for testing:\n",
        "  test_dir = './dataset-test'\n",
        "  test_data_ratio = 0.2\n",
        "  dirs = glob.glob(os.path.join(dataset_dir, '*/'))\n",
        "  for dir in dirs:\n",
        "    files = glob.glob(os.path.join(dir, '*.wav'))\n",
        "    test_count = round(len(files) * test_data_ratio)\n",
        "    random.seed(42)\n",
        "    random.shuffle(files)\n",
        "    # Move test samples:\n",
        "    for file in files[:test_count]:\n",
        "      class_dir = os.path.basename(os.path.normpath(dir))\n",
        "      os.makedirs(os.path.join(test_dir, class_dir), exist_ok=True)\n",
        "      os.rename(file, os.path.join(test_dir, class_dir, os.path.basename(file)))\n",
        "    print('Moved', test_count, 'images from', class_dir)"
      ]
    },
    {
      "cell_type": "markdown",
      "metadata": {
        "id": "myPa1dfEoagz"
      },
      "source": [
        "### Reproducir una muestra"
      ]
    },
    {
      "cell_type": "markdown",
      "metadata": {
        "id": "1jecBYREgMk6"
      },
      "source": [
        "Para asegurarnos de que el conjunto de datos parece correcto, juguemos con una muestra aleatoria del conjunto de prueba:"
      ]
    },
    {
      "cell_type": "code",
      "execution_count": null,
      "metadata": {
        "id": "gLC3ayJsoeNw"
      },
      "outputs": [],
      "source": [
        "def get_random_audio_file(samples_dir):\n",
        "  files = os.path.abspath(os.path.join(samples_dir, '*/*.wav'))\n",
        "  files_list = glob.glob(files)\n",
        "  random_audio_path = random.choice(files_list)\n",
        "  return random_audio_path\n",
        "\n",
        "def show_sample(audio_path):\n",
        "  audio_data, sample_rate = sf.read(audio_path)\n",
        "  class_name = os.path.basename(os.path.dirname(audio_path))\n",
        "  print(f'Class: {class_name}')\n",
        "  print(f'File: {audio_path}')\n",
        "  print(f'Sample rate: {sample_rate}')\n",
        "  print(f'Sample length: {len(audio_data)}')\n",
        "\n",
        "  plt.title(class_name)\n",
        "  plt.plot(audio_data)\n",
        "  display(Audio(audio_data, rate=sample_rate))"
      ]
    },
    {
      "cell_type": "code",
      "execution_count": null,
      "metadata": {
        "id": "todbtEWFy0mj"
      },
      "outputs": [],
      "source": [
        "random_audio = get_random_audio_file(test_dir)\n",
        "show_sample(random_audio)"
      ]
    },
    {
      "cell_type": "markdown",
      "metadata": {
        "id": "f-jRIWcQv7xt"
      },
      "source": [
        "## Definir el modelo"
      ]
    },
    {
      "cell_type": "markdown",
      "metadata": {
        "id": "pQj1Mf7YZELS"
      },
      "source": [
        "Al usar Model Maker para reentrenar cualquier modelo, tiene que empezar por definir una especificación del modelo. La especificación define el modelo base a partir del cual su nuevo modelo extraerá las incrustaciones de características para empezar a aprender nuevas clases. La especificación de este reconocedor del habla se basa en el modelo [BrowserFft preentrenado de TFJS](https://github.com/tensorflow/tfjs-models/tree/master/speech-commands#speech-command-recognizer).\n",
        "\n",
        "El modelo espera la entrada como una muestra de audio a 44.1 kHz y de algo menos de un segundo de duración: la longitud exacta de la muestra debe ser de 44034 fotogramas.\n",
        "\n",
        "No necesita realizar ningún remuestreo con su conjunto de datos de entrenamiento. Model Maker se encarga de eso por usted. Pero cuando más tarde ejecute la inferencia, debe asegurarse de que su entrada coincide con ese formato esperado.\n",
        "\n",
        "Todo lo que necesita hacer aquí es instanciar el [`BrowserFftSpec`](https://www.tensorflow.org/lite/api_docs/python/tflite_model_maker/audio_classifier/BrowserFftSpec):\n"
      ]
    },
    {
      "cell_type": "code",
      "execution_count": null,
      "metadata": {
        "id": "tUcxtfHXY7XS"
      },
      "outputs": [],
      "source": [
        "spec = audio_classifier.BrowserFftSpec()"
      ]
    },
    {
      "cell_type": "markdown",
      "metadata": {
        "id": "maTOoRvAwI9l"
      },
      "source": [
        "## Cargar su conjunto de datos "
      ]
    },
    {
      "cell_type": "markdown",
      "metadata": {
        "id": "UASCEHoVwQ1q"
      },
      "source": [
        "Ahora necesita cargar su conjunto de datos de acuerdo con las especificaciones del modelo. Model Maker incluye la API [`DataLoader`](https://www.tensorflow.org/lite/api_docs/python/tflite_model_maker/audio_classifier/DataLoader), que cargará su conjunto de datos desde una carpeta y se asegurará de que está en el formato esperado para las especificaciones del modelo.\n",
        "\n",
        "Ya hemos reservado algunos archivos de prueba moviéndolos a un directorio separado, lo que facilita la ejecución posterior de la inferencia con ellos. Ahora crearemos un `DataLoader` para cada división: el conjunto de entrenamiento, el conjunto de validación y el conjunto de prueba."
      ]
    },
    {
      "cell_type": "markdown",
      "metadata": {
        "id": "bAhAfHwiw2_F"
      },
      "source": [
        "#### Cargue el conjunto de datos de comandos de voz\n"
      ]
    },
    {
      "cell_type": "code",
      "execution_count": null,
      "metadata": {
        "id": "cX0RqETqZgzo"
      },
      "outputs": [],
      "source": [
        "if not use_custom_dataset:\n",
        "  train_data_ratio = 0.8\n",
        "  train_data = audio_classifier.DataLoader.from_folder(\n",
        "      spec, dataset_dir, cache=True)\n",
        "  train_data, validation_data = train_data.split(train_data_ratio)\n",
        "  test_data = audio_classifier.DataLoader.from_folder(\n",
        "      spec, test_dir, cache=True)"
      ]
    },
    {
      "cell_type": "markdown",
      "metadata": {
        "id": "2OWQ_O9_t-C-"
      },
      "source": [
        "#### Cargue un conjunto de datos personalizado"
      ]
    },
    {
      "cell_type": "markdown",
      "metadata": {
        "id": "IPiwaJwMt7yo"
      },
      "source": [
        "**Nota:** Configurar `cache=True` es importante para que el entrenamiento sea más rápido (sobre todo cuando hay que volver a muestrear el conjunto de datos), pero también requerirá más memoria RAM para mantener los datos. Si usa un conjunto de datos personalizado muy grande, el almacenamiento en caché podría superar su capacidad de RAM."
      ]
    },
    {
      "cell_type": "code",
      "execution_count": null,
      "metadata": {
        "cellView": "code",
        "id": "e86Ej-ZmuCzy"
      },
      "outputs": [],
      "source": [
        "if use_custom_dataset:\n",
        "  train_data_ratio = 0.8\n",
        "  train_data = audio_classifier.DataLoader.from_folder(\n",
        "      spec, dataset_dir, cache=True)\n",
        "  train_data, validation_data = train_data.split(train_data_ratio)\n",
        "  test_data = audio_classifier.DataLoader.from_folder(\n",
        "      spec, test_dir, cache=True)\n"
      ]
    },
    {
      "cell_type": "markdown",
      "metadata": {
        "id": "hh1P_zfzwbfE"
      },
      "source": [
        "## Entrenar el modelo\n"
      ]
    },
    {
      "cell_type": "markdown",
      "metadata": {
        "id": "ziMghju-Rts2"
      },
      "source": [
        "Ahora usaremos la función [`create()`](https://www.tensorflow.org/lite/api_docs/python/tflite_model_maker/audio_classifier/create) de Model Maker para crear un modelo basado en nuestra especificación del modelo y el conjunto de datos de entrenamiento, y comenzar el entrenamiento.\n",
        "\n",
        "Si está usando un conjunto de datos personalizado, es posible que desee cambiar el tamaño del lote según convenga al número de muestras de su conjunto de entrenamiento.\n",
        "\n",
        "**Nota:** La primera época tarda más porque debe crear la caché. "
      ]
    },
    {
      "cell_type": "code",
      "execution_count": null,
      "metadata": {
        "id": "GYaZvaOPgLUC"
      },
      "outputs": [],
      "source": [
        "# If your dataset has fewer than 100 samples per class,\n",
        "# you might want to try a smaller batch size\n",
        "batch_size = 25\n",
        "epochs = 25\n",
        "model = audio_classifier.create(train_data, spec, validation_data, batch_size, epochs)"
      ]
    },
    {
      "cell_type": "markdown",
      "metadata": {
        "id": "mtLuRA2xweZA"
      },
      "source": [
        "## Revisar el rendimiento del modelo"
      ]
    },
    {
      "cell_type": "markdown",
      "metadata": {
        "id": "oXMEHZkAxJTl"
      },
      "source": [
        "Incluso si la precisión/pérdida parece buena a partir del resultado del entrenamiento anterior, es importante ejecutar también el modelo utilizando datos de prueba que el modelo no haya visto todavía, que es lo que hace aquí el método `evaluate()`:"
      ]
    },
    {
      "cell_type": "code",
      "execution_count": null,
      "metadata": {
        "id": "n_4MGpzhWVhr"
      },
      "outputs": [],
      "source": [
        "model.evaluate(test_data)"
      ]
    },
    {
      "cell_type": "markdown",
      "metadata": {
        "id": "HqvpAnqsVExO"
      },
      "source": [
        "### Ver la matriz de confusión"
      ]
    },
    {
      "cell_type": "markdown",
      "metadata": {
        "id": "8QRRAM39aOxS"
      },
      "source": [
        "Al entrenar un modelo de clasificación como éste, también es útil inspeccionar la [matriz de confusión](https://en.wikipedia.org/wiki/Confusion_matrix). La matriz de confusión le ofrece una representación visual detallada de lo bien que funciona su clasificador para cada clasificación en sus datos de prueba."
      ]
    },
    {
      "cell_type": "code",
      "execution_count": null,
      "metadata": {
        "id": "zqB3c0368iH3"
      },
      "outputs": [],
      "source": [
        "def show_confusion_matrix(confusion, test_labels):\n",
        "  \"\"\"Compute confusion matrix and normalize.\"\"\"\n",
        "  confusion_normalized = confusion.astype(\"float\") / confusion.sum(axis=1)\n",
        "  sns.set(rc = {'figure.figsize':(6,6)})\n",
        "  sns.heatmap(\n",
        "      confusion_normalized, xticklabels=test_labels, yticklabels=test_labels,\n",
        "      cmap='Blues', annot=True, fmt='.2f', square=True, cbar=False)\n",
        "  plt.title(\"Confusion matrix\")\n",
        "  plt.ylabel(\"True label\")\n",
        "  plt.xlabel(\"Predicted label\")\n",
        "\n",
        "confusion_matrix = model.confusion_matrix(test_data)\n",
        "show_confusion_matrix(confusion_matrix.numpy(), test_data.index_to_label)"
      ]
    },
    {
      "cell_type": "markdown",
      "metadata": {
        "id": "yASrikBgZ9ZO"
      },
      "source": [
        "## Exportar el modelo\n",
        "\n",
        "El último paso es exportar su modelo al formato TensorFlow Lite para su ejecución en dispositivos móviles/integrados y al formato [SavedModel](https://www.tensorflow.org/guide/saved_model) para su ejecución en cualquier otro lugar.\n",
        "\n",
        "Al exportar un archivo `.tflite` desde Model Maker, éste incluye [metadatos del modelo](https://www.tensorflow.org/lite/inference_with_metadata/overview) que describen diversos detalles que pueden ayudar posteriormente durante la inferencia. Incluso incluye una copia del archivo de etiquetas de clasificación, por lo que no necesita un archivo `labels.txt` aparte (en la siguiente sección, mostramos cómo usar estos metadatos para ejecutar una inferencia)."
      ]
    },
    {
      "cell_type": "code",
      "execution_count": null,
      "metadata": {
        "id": "4gEf59NfGWjq"
      },
      "outputs": [],
      "source": [
        "TFLITE_FILENAME = 'browserfft-speech.tflite'\n",
        "SAVE_PATH = './models'"
      ]
    },
    {
      "cell_type": "code",
      "execution_count": null,
      "metadata": {
        "id": "Xw_ehPxAdQlz"
      },
      "outputs": [],
      "source": [
        "print(f'Exporing the model to {SAVE_PATH}')\n",
        "model.export(SAVE_PATH, tflite_filename=TFLITE_FILENAME)\n",
        "model.export(SAVE_PATH, export_format=[mm.ExportFormat.SAVED_MODEL, mm.ExportFormat.LABEL])"
      ]
    },
    {
      "cell_type": "markdown",
      "metadata": {
        "id": "lIC1ddGq6xQX"
      },
      "source": [
        "## Ejecutar la inferencia con el modelo TF Lite"
      ]
    },
    {
      "cell_type": "markdown",
      "metadata": {
        "id": "5xr0idac6xfi"
      },
      "source": [
        "Ahora su modelo TFLite puede ser implementado y ejecutado usando cualquiera de las [bibliotecas de inferencia](https://www.tensorflow.org/lite/guide/inference) soportadas o con la nueva [API de tareas del AudioClassifier de TFLite](https://www.tensorflow.org/lite/inference_with_metadata/task_library/audio_classifier). El siguiente código muestra cómo puede ejecutar la inferencia con el modelo `.tflite` en Python."
      ]
    },
    {
      "cell_type": "code",
      "execution_count": null,
      "metadata": {
        "id": "nR5zV53YbCIQ"
      },
      "outputs": [],
      "source": [
        "# This library provides the TFLite metadata API\n",
        "! pip install -q tflite_support"
      ]
    },
    {
      "cell_type": "code",
      "execution_count": null,
      "metadata": {
        "id": "1AC7PRyiayU5"
      },
      "outputs": [],
      "source": [
        "from tflite_support import metadata\n",
        "import json\n",
        "\n",
        "def get_labels(model):\n",
        "  \"\"\"Returns a list of labels, extracted from the model metadata.\"\"\"\n",
        "  displayer = metadata.MetadataDisplayer.with_model_file(model)\n",
        "  labels_file = displayer.get_packed_associated_file_list()[0]\n",
        "  labels = displayer.get_associated_file_buffer(labels_file).decode()\n",
        "  return [line for line in labels.split('\\n')]\n",
        "\n",
        "def get_input_sample_rate(model):\n",
        "  \"\"\"Returns the model's expected sample rate, from the model metadata.\"\"\"\n",
        "  displayer = metadata.MetadataDisplayer.with_model_file(model)\n",
        "  metadata_json = json.loads(displayer.get_metadata_json())\n",
        "  input_tensor_metadata = metadata_json['subgraph_metadata'][0][\n",
        "          'input_tensor_metadata'][0]\n",
        "  input_content_props = input_tensor_metadata['content']['content_properties']\n",
        "  return input_content_props['sample_rate']"
      ]
    },
    {
      "cell_type": "markdown",
      "metadata": {
        "id": "yC7TEvQ9o4mu"
      },
      "source": [
        "Para observar lo bien que funciona el modelo con muestras reales, ejecute el siguiente bloque de código una y otra vez. Cada vez, obtendrá una nueva muestra de prueba y ejecutará la inferencia con ella, y podrá escuchar la muestra de audio a continuación."
      ]
    },
    {
      "cell_type": "code",
      "execution_count": null,
      "metadata": {
        "id": "loU6PleipSPf"
      },
      "outputs": [],
      "source": [
        "# Get a WAV file for inference and list of labels from the model\n",
        "tflite_file = os.path.join(SAVE_PATH, TFLITE_FILENAME)\n",
        "labels = get_labels(tflite_file)\n",
        "random_audio = get_random_audio_file(test_dir)\n",
        "\n",
        "# Ensure the audio sample fits the model input\n",
        "interpreter = tf.lite.Interpreter(tflite_file)\n",
        "input_details = interpreter.get_input_details()\n",
        "output_details = interpreter.get_output_details()\n",
        "input_size = input_details[0]['shape'][1]\n",
        "sample_rate = get_input_sample_rate(tflite_file)\n",
        "audio_data, _ = librosa.load(random_audio, sr=sample_rate)\n",
        "if len(audio_data) < input_size:\n",
        "  audio_data.resize(input_size)\n",
        "audio_data = np.expand_dims(audio_data[:input_size], axis=0)\n",
        "\n",
        "# Run inference\n",
        "interpreter.allocate_tensors()\n",
        "interpreter.set_tensor(input_details[0]['index'], audio_data)\n",
        "interpreter.invoke()\n",
        "output_data = interpreter.get_tensor(output_details[0]['index'])\n",
        "\n",
        "# Display prediction and ground truth\n",
        "top_index = np.argmax(output_data[0])\n",
        "label = labels[top_index]\n",
        "score = output_data[0][top_index]\n",
        "print('---prediction---')\n",
        "print(f'Class: {label}\\nScore: {score}')\n",
        "print('----truth----')\n",
        "show_sample(random_audio)"
      ]
    },
    {
      "cell_type": "markdown",
      "metadata": {
        "id": "VtmfoJW6G2fd"
      },
      "source": [
        "## Descargar el modelo TF Lite"
      ]
    },
    {
      "cell_type": "markdown",
      "metadata": {
        "id": "8zLDeiQ_z2Vj"
      },
      "source": [
        "Ahora puede implementar el modelo TF Lite en su dispositivo móvil o integrado. No necesita descargar el archivo de etiquetas porque, en su lugar, puede recuperar las etiquetas de los metadatos del archivo `.tflite`, como se muestra en el ejemplo de inferencia anterior."
      ]
    },
    {
      "cell_type": "code",
      "execution_count": null,
      "metadata": {
        "id": "cNuQoqtjG4zu"
      },
      "outputs": [],
      "source": [
        "try:\n",
        "  from google.colab import files\n",
        "except ImportError:\n",
        "  pass\n",
        "else:\n",
        "  files.download(tflite_file)"
      ]
    },
    {
      "cell_type": "markdown",
      "metadata": {
        "id": "iERuGZz4z6rB"
      },
      "source": [
        "Revise nuestras apps de ejemplo de extremo a extremo que realizan inferencias con modelos de audio TFLite en [Android](https://github.com/tensorflow/examples/tree/master/lite/examples/sound_classification/android/) y [iOS](https://github.com/tensorflow/examples/tree/master/lite/examples/sound_classification/ios)."
      ]
    }
  ],
  "metadata": {
    "accelerator": "GPU",
    "colab": {
      "collapsed_sections": [],
      "name": "speech_recognition.ipynb",
      "toc_visible": true
    },
    "kernelspec": {
      "display_name": "Python 3",
      "name": "python3"
    }
  },
  "nbformat": 4,
  "nbformat_minor": 0
}
