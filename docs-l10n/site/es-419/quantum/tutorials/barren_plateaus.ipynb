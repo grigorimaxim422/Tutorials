{
  "cells": [
    {
      "cell_type": "markdown",
      "metadata": {
        "id": "xLOXFOT5Q40E"
      },
      "source": [
        "##### Copyright 2020 The TensorFlow Authors."
      ]
    },
    {
      "cell_type": "code",
      "execution_count": null,
      "metadata": {
        "cellView": "form",
        "id": "iiQkM5ZgQ8r2"
      },
      "outputs": [],
      "source": [
        "#@title Licensed under the Apache License, Version 2.0 (the \"License\");\n",
        "# you may not use this file except in compliance with the License.\n",
        "# You may obtain a copy of the License at\n",
        "#\n",
        "# https://www.apache.org/licenses/LICENSE-2.0\n",
        "#\n",
        "# Unless required by applicable law or agreed to in writing, software\n",
        "# distributed under the License is distributed on an \"AS IS\" BASIS,\n",
        "# WITHOUT WARRANTIES OR CONDITIONS OF ANY KIND, either express or implied.\n",
        "# See the License for the specific language governing permissions and\n",
        "# limitations under the License."
      ]
    },
    {
      "cell_type": "markdown",
      "metadata": {
        "id": "j6331ZSsQGY3"
      },
      "source": [
        "# Barren plateaus"
      ]
    },
    {
      "cell_type": "markdown",
      "metadata": {
        "id": "i9Jcnb8bQQyd"
      },
      "source": [
        "<table class=\"tfo-notebook-buttons\" align=\"left\">\n",
        "  <td><a target=\"_blank\" href=\"https://www.tensorflow.org/quantum/tutorials/barren_plateaus\"><img src=\"https://www.tensorflow.org/images/tf_logo_32px.png\">Ver en TensorFlow.org</a></td>\n",
        "  <td><a target=\"_blank\" href=\"https://colab.research.google.com/github/tensorflow/docs-l10n/blob/master/site/es-419/quantum/tutorials/barren_plateaus.ipynb\"><img src=\"https://www.tensorflow.org/images/colab_logo_32px.png\">Ejecutar en Google Colab</a></td>\n",
        "  <td>     <a target=\"_blank\" href=\"https://github.com/tensorflow/docs-l10n/blob/master/site/es-419/quantum/tutorials/barren_plateaus.ipynb\"><img src=\"https://www.tensorflow.org/images/GitHub-Mark-32px.png\">Ver fuente en GitHub</a>\n",
        "</td>\n",
        "  <td>     <a href=\"https://storage.googleapis.com/tensorflow_docs/docs-l10n/site/es-419/quantum/tutorials/barren_plateaus.ipynb\"><img src=\"https://www.tensorflow.org/images/download_logo_32px.png\">Descargar el bloc de notas</a>\n",
        "</td>\n",
        "</table>"
      ]
    },
    {
      "cell_type": "markdown",
      "metadata": {
        "id": "DyEcfFapraq6"
      },
      "source": [
        "En este ejemplo analizaremos los resultados de <a href=\"https://www.nature.com/articles/s41467-018-07090-4\" class=\"external\">McClean, 2019</a> que dice que no cualquier estructura de red neuronal cuántica tendrá un buen desempeño para el aprendizaje. En particular, verá que una familia grande cualquiera de circuitos cuánticos aleatorios no sirve como una red neuronal cuántica buena, ya que tiene gradientes que se desvanecen casi en todas partes. En este ejemplo, no entrenaremos ningún modelo para un problema de aprendizaje específico, sino que nos centraremos en un problema más simple, el de entender el comportamiento de los gradientes."
      ]
    },
    {
      "cell_type": "markdown",
      "metadata": {
        "id": "zB_Xw0Y9rVNi"
      },
      "source": [
        "## Preparación"
      ]
    },
    {
      "cell_type": "code",
      "execution_count": null,
      "metadata": {
        "id": "TorxE5tnkvb2"
      },
      "outputs": [],
      "source": [
        "!pip install tensorflow==2.7.0"
      ]
    },
    {
      "cell_type": "markdown",
      "metadata": {
        "id": "FxkQA6oblNqI"
      },
      "source": [
        "Instalar TensorFlow Quantum:"
      ]
    },
    {
      "cell_type": "code",
      "execution_count": null,
      "metadata": {
        "id": "saFHsRDpkvkH"
      },
      "outputs": [],
      "source": [
        "!pip install tensorflow-quantum==0.7.2"
      ]
    },
    {
      "cell_type": "code",
      "execution_count": null,
      "metadata": {
        "id": "4Ql5PW-ACO0J"
      },
      "outputs": [],
      "source": [
        "# Update package resources to account for version changes.\n",
        "import importlib, pkg_resources\n",
        "importlib.reload(pkg_resources)"
      ]
    },
    {
      "cell_type": "markdown",
      "metadata": {
        "id": "1PaclXeSrrMW"
      },
      "source": [
        "Ahora, hay que importar TensorFlow y las dependencias del módulo:"
      ]
    },
    {
      "cell_type": "code",
      "execution_count": null,
      "metadata": {
        "id": "enZ300Bflq80"
      },
      "outputs": [],
      "source": [
        "import tensorflow as tf\n",
        "import tensorflow_quantum as tfq\n",
        "\n",
        "import cirq\n",
        "import sympy\n",
        "import numpy as np\n",
        "\n",
        "# visualization tools\n",
        "%matplotlib inline\n",
        "import matplotlib.pyplot as plt\n",
        "from cirq.contrib.svg import SVGCircuit\n",
        "\n",
        "np.random.seed(1234)"
      ]
    },
    {
      "cell_type": "markdown",
      "metadata": {
        "id": "b08Mmbs8lr81"
      },
      "source": [
        "## 1. Resumen\n",
        "\n",
        "Los circuitos cuánticos aleatorios con muchos bloques que tienen el siguiente aspecto ($R_{P}(\\theta)$ es una rotación Pauli):<br> <img src=\"./images/barren_2.png\" width=\"700\">\n",
        "\n",
        "Donde si $f(x)$ se define como el valor de expectativa w.r.t. $Z_{a}Z_{b}$ para cualquier bit cuántico $a$ y $b$, entonces, hay un problema, que la media de $f'(x)$ es muy cercana a 0 y no varía mucho más. Lo notaremos a continuación:"
      ]
    },
    {
      "cell_type": "markdown",
      "metadata": {
        "id": "y31qSRCczI-L"
      },
      "source": [
        "## 2. Generación de circuitos cuánticos\n",
        "\n",
        "La construcción de la publicación es fácil de seguir. Se implementa una función simple que genera un circuito cuántico aleatorio, a veces denominado *red neuronal cuántica* (QNN), con la profundidad dada en un conjunto de bits cuánticos:"
      ]
    },
    {
      "cell_type": "code",
      "execution_count": null,
      "metadata": {
        "id": "Nh9vrgPBks7O"
      },
      "outputs": [],
      "source": [
        "def generate_random_qnn(qubits, symbol, depth):\n",
        "    \"\"\"Generate random QNN's with the same structure from McClean et al.\"\"\"\n",
        "    circuit = cirq.Circuit()\n",
        "    for qubit in qubits:\n",
        "        circuit += cirq.ry(np.pi / 4.0)(qubit)\n",
        "\n",
        "    for d in range(depth):\n",
        "        # Add a series of single qubit rotations.\n",
        "        for i, qubit in enumerate(qubits):\n",
        "            random_n = np.random.uniform()\n",
        "            random_rot = np.random.uniform(\n",
        "            ) * 2.0 * np.pi if i != 0 or d != 0 else symbol\n",
        "            if random_n > 2. / 3.:\n",
        "                # Add a Z.\n",
        "                circuit += cirq.rz(random_rot)(qubit)\n",
        "            elif random_n > 1. / 3.:\n",
        "                # Add a Y.\n",
        "                circuit += cirq.ry(random_rot)(qubit)\n",
        "            else:\n",
        "                # Add a X.\n",
        "                circuit += cirq.rx(random_rot)(qubit)\n",
        "\n",
        "        # Add CZ ladder.\n",
        "        for src, dest in zip(qubits, qubits[1:]):\n",
        "            circuit += cirq.CZ(src, dest)\n",
        "\n",
        "    return circuit\n",
        "\n",
        "\n",
        "generate_random_qnn(cirq.GridQubit.rect(1, 3), sympy.Symbol('theta'), 2)"
      ]
    },
    {
      "cell_type": "markdown",
      "metadata": {
        "id": "gUuQfOyrj_Hu"
      },
      "source": [
        "Los autores investigan el gradiente de un solo parámetro $\\theta_{1,1}$. Sigamos y coloquemos un `sympy.Symbol` en el circuito donde estaría $\\theta_{1,1}$. Como los autores no analizan las estadísticas de ningún otro símbolo del circuito, reemplacémoslo con valores aleatorios ahora, en vez de más tarde."
      ]
    },
    {
      "cell_type": "markdown",
      "metadata": {
        "id": "lAVDRQ87k3md"
      },
      "source": [
        "## 3. Ejecución de los circuitos\n",
        "\n",
        "Generemos algunos de estos circuitos con un observable para hacer pruebas de la afirmación de que los gradientes no varían mucho. Primero, generemos un lote de circuitos aleatorios. Elijamos un observable *ZZ* aleatorio y calculemos el lote de gradientes y la variancia con TensorFlow Quantum."
      ]
    },
    {
      "cell_type": "markdown",
      "metadata": {
        "id": "qoDDaHgwj_Hz"
      },
      "source": [
        "### 3.1 Cálculo de la variancia por lotes\n",
        "\n",
        "Escribamos una función ayudante que calcule la variancia del gradiente de un observable sobre un conjunto de circuitos:"
      ]
    },
    {
      "cell_type": "code",
      "execution_count": null,
      "metadata": {
        "id": "OkdndnBKk8B8"
      },
      "outputs": [],
      "source": [
        "def process_batch(circuits, symbol, op):\n",
        "    \"\"\"Compute the variance of a batch of expectations w.r.t. op on each circuit that \n",
        "    contains `symbol`. Note that this method sets up a new compute graph every time it is\n",
        "    called so it isn't as performant as possible.\"\"\"\n",
        "\n",
        "    # Setup a simple layer to batch compute the expectation gradients.\n",
        "    expectation = tfq.layers.Expectation()\n",
        "\n",
        "    # Prep the inputs as tensors\n",
        "    circuit_tensor = tfq.convert_to_tensor(circuits)\n",
        "    values_tensor = tf.convert_to_tensor(\n",
        "        np.random.uniform(0, 2 * np.pi, (n_circuits, 1)).astype(np.float32))\n",
        "\n",
        "    # Use TensorFlow GradientTape to track gradients.\n",
        "    with tf.GradientTape() as g:\n",
        "        g.watch(values_tensor)\n",
        "        forward = expectation(circuit_tensor,\n",
        "                              operators=op,\n",
        "                              symbol_names=[symbol],\n",
        "                              symbol_values=values_tensor)\n",
        "\n",
        "    # Return variance of gradients across all circuits.\n",
        "    grads = g.gradient(forward, values_tensor)\n",
        "    grad_var = tf.math.reduce_std(grads, axis=0)\n",
        "    return grad_var.numpy()[0]"
      ]
    },
    {
      "cell_type": "markdown",
      "metadata": {
        "id": "JINYTIjDj_H1"
      },
      "source": [
        "### 3.1 Preparación y ejecución\n",
        "\n",
        "Elijamos la cantidad de circuitos aleatorios que generaremos junto con su profundidad y la cantidad de bit cuánticos que deberían participar. Después, grafiquemos los resultados."
      ]
    },
    {
      "cell_type": "code",
      "execution_count": null,
      "metadata": {
        "id": "xAGBcq9Bj_H3"
      },
      "outputs": [],
      "source": [
        "n_qubits = [2 * i for i in range(2, 7)\n",
        "           ]  # Ranges studied in paper are between 2 and 24.\n",
        "depth = 50  # Ranges studied in paper are between 50 and 500.\n",
        "n_circuits = 200\n",
        "theta_var = []\n",
        "\n",
        "for n in n_qubits:\n",
        "    # Generate the random circuits and observable for the given n.\n",
        "    qubits = cirq.GridQubit.rect(1, n)\n",
        "    symbol = sympy.Symbol('theta')\n",
        "    circuits = [\n",
        "        generate_random_qnn(qubits, symbol, depth) for _ in range(n_circuits)\n",
        "    ]\n",
        "    op = cirq.Z(qubits[0]) * cirq.Z(qubits[1])\n",
        "    theta_var.append(process_batch(circuits, symbol, op))\n",
        "\n",
        "plt.semilogy(n_qubits, theta_var)\n",
        "plt.title('Gradient Variance in QNNs')\n",
        "plt.xlabel('n_qubits')\n",
        "plt.xticks(n_qubits)\n",
        "plt.ylabel('$\\\\partial \\\\theta$ variance')\n",
        "plt.show()"
      ]
    },
    {
      "cell_type": "markdown",
      "metadata": {
        "id": "qY2E0CFjxRE9"
      },
      "source": [
        "En este gráfico se muestra que para los problemas de aprendizaje automático cuántico, no se puede, simplemente, adivinar un ansatz de QNN aleatorio y esperar obtener el mejor resultado. En el circuito del modelo, debe haber alguna estructura presente para que los gradientes varíen al punto en que el aprendizaje efectivamente se produzca."
      ]
    },
    {
      "cell_type": "markdown",
      "metadata": {
        "id": "4RE_idhmj_H6"
      },
      "source": [
        "## 4. Heurística\n",
        "\n",
        "Una heurística interesante de <a href=\"https://arxiv.org/pdf/1903.05076.pdf\" class=\"external\">Grant, 2019</a> permite empezar muy cerca de la opción aleatoria, pero tampoco tanto. Con los mismos circuitos que McClean et al., los autores proponen una técnica de inicialización diferente para los parámetros de control clásico para evitar los *barren plateaus*. La técnica de inicialización inicia algunas capas con parámetros de control totalmente aleatorios. Pero en las capas que la siguen inmediatamente, elige parámetros tales que la transformación inicial hecha por las primeras pocas capas se deshace. A esto los autores lo llaman *bloque de identidad*.\n",
        "\n",
        "La ventaja de esta heurística es que al cambiar un solo parámetro, todos los otros bloques que se encuentran fuera del bloque actual seguirán siendo de identidad; y la señal de gradiente consigue volverse mucho más fuerte que antes. De este modo, el usuario puede elegir qué variables y bloques desea modificar para obtener una señal de gradiente más fuerte. Esta heurística no impide que el usuario caiga en un barren plateau durante la fase de entrenamiento (y restringe una actualización totalmente simultanea), simplemente, garantiza que se podrá comenzar fuera del plateau."
      ]
    },
    {
      "cell_type": "markdown",
      "metadata": {
        "id": "Fofv9hgyj_IB"
      },
      "source": [
        "### 4.1 Construcción de una nueva red neuronal cuántica\n",
        "\n",
        "Ahora, construimos una función para generar redes neuronales cuánticas de bloques de identidad. Esta implementación es un poco diferente a la de la publicación. Por ahora, observamos el comportamiento del gradiente de un único parámetro para ser coherentes con McClean et al, y para que se puedan hacer algunas simplificaciones.\n",
        "\n",
        "Para generar un bloque de identidad y entrenar el modelo, por lo general necesitamos $U1(\\theta_{1a}) U1(\\theta_{1b})^{\\dagger}$ y no $U1(\\theta_1) U1(\\theta_1)^{\\dagger}$. Inicialmente $\\theta_{1a}$ y $\\theta_{1b}$ son los mismos ángulos, pero se aprenden de forma diferente. De lo contrario, deberíamos obtener siempre la identidad, incluso después del entrenamiento. La elección de la cantidad de bloques de identidad es empírica. Mientras más profundo sea el bloque, más pequeña será la variancia en medio de ese bloque. Pero al principio y al final del bloque, la variancia de los gradientes de parámetro debería ser grande. "
      ]
    },
    {
      "cell_type": "code",
      "execution_count": null,
      "metadata": {
        "id": "PL7mTHEVj_IC"
      },
      "outputs": [],
      "source": [
        "def generate_identity_qnn(qubits, symbol, block_depth, total_depth):\n",
        "    \"\"\"Generate random QNN's with the same structure from Grant et al.\"\"\"\n",
        "    circuit = cirq.Circuit()\n",
        "\n",
        "    # Generate initial block with symbol.\n",
        "    prep_and_U = generate_random_qnn(qubits, symbol, block_depth)\n",
        "    circuit += prep_and_U\n",
        "\n",
        "    # Generate dagger of initial block without symbol.\n",
        "    U_dagger = (prep_and_U[1:])**-1\n",
        "    circuit += cirq.resolve_parameters(\n",
        "        U_dagger, param_resolver={symbol: np.random.uniform() * 2 * np.pi})\n",
        "\n",
        "    for d in range(total_depth - 1):\n",
        "        # Get a random QNN.\n",
        "        prep_and_U_circuit = generate_random_qnn(\n",
        "            qubits,\n",
        "            np.random.uniform() * 2 * np.pi, block_depth)\n",
        "\n",
        "        # Remove the state-prep component\n",
        "        U_circuit = prep_and_U_circuit[1:]\n",
        "\n",
        "        # Add U\n",
        "        circuit += U_circuit\n",
        "\n",
        "        # Add U^dagger\n",
        "        circuit += U_circuit**-1\n",
        "\n",
        "    return circuit\n",
        "\n",
        "\n",
        "generate_identity_qnn(cirq.GridQubit.rect(1, 3), sympy.Symbol('theta'), 2, 2)"
      ]
    },
    {
      "cell_type": "markdown",
      "metadata": {
        "id": "ifWrl19kj_IG"
      },
      "source": [
        "### 4.2 Comparación\n",
        "\n",
        "Aquí podemos ver que la heurística ayuda a mantener la variancia del gradiente para que no se desvanezca, ya que rápidamente, hace lo siguiente:"
      ]
    },
    {
      "cell_type": "code",
      "execution_count": null,
      "metadata": {
        "id": "62kmsVAXj_IH"
      },
      "outputs": [],
      "source": [
        "block_depth = 10\n",
        "total_depth = 5\n",
        "\n",
        "heuristic_theta_var = []\n",
        "\n",
        "for n in n_qubits:\n",
        "    # Generate the identity block circuits and observable for the given n.\n",
        "    qubits = cirq.GridQubit.rect(1, n)\n",
        "    symbol = sympy.Symbol('theta')\n",
        "    circuits = [\n",
        "        generate_identity_qnn(qubits, symbol, block_depth, total_depth)\n",
        "        for _ in range(n_circuits)\n",
        "    ]\n",
        "    op = cirq.Z(qubits[0]) * cirq.Z(qubits[1])\n",
        "    heuristic_theta_var.append(process_batch(circuits, symbol, op))\n",
        "\n",
        "plt.semilogy(n_qubits, theta_var)\n",
        "plt.semilogy(n_qubits, heuristic_theta_var)\n",
        "plt.title('Heuristic vs. Random')\n",
        "plt.xlabel('n_qubits')\n",
        "plt.xticks(n_qubits)\n",
        "plt.ylabel('$\\\\partial \\\\theta$ variance')\n",
        "plt.show()"
      ]
    },
    {
      "cell_type": "markdown",
      "metadata": {
        "id": "E0XNSoblj_IK"
      },
      "source": [
        "Es una excelente mejora para obtener señales de gradientes más fuertes a partir de redes neuronales cuánticas aleatorias (cercanas)."
      ]
    }
  ],
  "metadata": {
    "colab": {
      "collapsed_sections": [],
      "name": "barren_plateaus.ipynb",
      "toc_visible": true
    },
    "kernelspec": {
      "display_name": "Python 3",
      "name": "python3"
    }
  },
  "nbformat": 4,
  "nbformat_minor": 0
}
