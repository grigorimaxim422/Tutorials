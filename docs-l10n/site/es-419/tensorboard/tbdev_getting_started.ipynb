{
  "cells": [
    {
      "cell_type": "markdown",
      "metadata": {
        "id": "h3Nuf-G4xJ0u"
      },
      "source": [
        "##### Copyright 2020 The TensorFlow Authors."
      ]
    },
    {
      "cell_type": "code",
      "execution_count": null,
      "metadata": {
        "cellView": "form",
        "id": "zZ81_4tLxSvd"
      },
      "outputs": [],
      "source": [
        "#@title Licensed under the Apache License, Version 2.0 (the \"License\");\n",
        "# you may not use this file except in compliance with the License.\n",
        "# You may obtain a copy of the License at\n",
        "#\n",
        "# https://www.apache.org/licenses/LICENSE-2.0\n",
        "#\n",
        "# Unless required by applicable law or agreed to in writing, software\n",
        "# distributed under the License is distributed on an \"AS IS\" BASIS,\n",
        "# WITHOUT WARRANTIES OR CONDITIONS OF ANY KIND, either express or implied.\n",
        "# See the License for the specific language governing permissions and\n",
        "# limitations under the License."
      ]
    },
    {
      "cell_type": "markdown",
      "metadata": {
        "id": "wNBP_f0QUTfO"
      },
      "source": [
        "# Introducción a [TensorBoard.dev](https://tensorboard.dev)"
      ]
    },
    {
      "cell_type": "markdown",
      "metadata": {
        "id": "DLXZ3t1PWdOp"
      },
      "source": [
        "[TensorBoard.dev](https://tensorboard.dev) es un servicio [TensorBoard](https://tensorflow.org/tensorboard) público y gratuito que le permite subir y compartir sus experimentos de ML con todo el mundo.\n",
        "\n",
        "Este bloc de notas entrena un modelo sencillo y muestra cómo subir los registros a la [Vista previa](https://tensorboard.dev/experiment/rldGbR8rRHeCEbkK61SWTQ) de TensorBoard.dev."
      ]
    },
    {
      "cell_type": "markdown",
      "metadata": {
        "id": "yjBn-ptXTppA"
      },
      "source": [
        "### Preparación e importaciones\n",
        "\n",
        "Este bloc de notas utiliza funciones de TensorBoard que sólo están disponibles para versiones &gt;= `2.3.0`."
      ]
    },
    {
      "cell_type": "code",
      "execution_count": null,
      "metadata": {
        "id": "L3ns52Luracm"
      },
      "outputs": [],
      "source": [
        "import tensorflow as tf\n",
        "import datetime\n",
        "from tensorboard.plugins.hparams import api as hp"
      ]
    },
    {
      "cell_type": "markdown",
      "metadata": {
        "id": "GqUABmUTT1Cl"
      },
      "source": [
        "### Entrene un modelo simple y cree registros en TensorBoard"
      ]
    },
    {
      "cell_type": "code",
      "execution_count": null,
      "metadata": {
        "id": "LZExSr2Qrc5S"
      },
      "outputs": [],
      "source": [
        "mnist = tf.keras.datasets.mnist\n",
        "\n",
        "(x_train, y_train),(x_test, y_test) = mnist.load_data()\n",
        "x_train, x_test = x_train / 255.0, x_test / 255.0\n",
        "\n",
        "def create_model():\n",
        "  return tf.keras.models.Sequential([\n",
        "    tf.keras.layers.Flatten(input_shape=(28, 28)),\n",
        "    tf.keras.layers.Dense(512, activation='relu'),\n",
        "    tf.keras.layers.Dropout(0.2),\n",
        "    tf.keras.layers.Dense(10, activation='softmax')\n",
        "  ])"
      ]
    },
    {
      "cell_type": "markdown",
      "metadata": {
        "id": "FSv4C0dBrmAx"
      },
      "source": [
        "Los registros de TensorBoard se crean durante el entrenamiento pasando las retrollamadas [TensorBoard](https://www.tensorflow.org/tensorboard/get_started) y [hyperparameters](https://www.tensorflow.org/tensorboard/hyperparameter_tuning_with_hparams) a Model.fit() de Keras. Estos registros se pueden cargar en TensorBoard.dev.\n"
      ]
    },
    {
      "cell_type": "code",
      "execution_count": null,
      "metadata": {
        "id": "dsVjm5CrUtXm"
      },
      "outputs": [],
      "source": [
        "model = create_model()\n",
        "model.compile(\n",
        "    optimizer='adam',\n",
        "    loss='sparse_categorical_crossentropy',\n",
        "    metrics=['accuracy'])\n",
        "\n",
        "log_dir=\"logs/fit/\" + datetime.datetime.now().strftime(\"%Y%m%d-%H%M%S\")\n",
        "tensorboard_callback = tf.keras.callbacks.TensorBoard(\n",
        "    log_dir=log_dir, histogram_freq=1)\n",
        "hparams_callback = hp.KerasCallback(log_dir, {\n",
        "    'num_relu_units': 512,\n",
        "    'dropout': 0.2\n",
        "})\n",
        "\n",
        "model.fit(\n",
        "    x=x_train, \n",
        "    y=y_train, \n",
        "    epochs=5, \n",
        "    validation_data=(x_test, y_test), \n",
        "    callbacks=[tensorboard_callback, hparams_callback])"
      ]
    },
    {
      "cell_type": "markdown",
      "metadata": {
        "id": "TgF35qdzIC3T"
      },
      "source": [
        "### (Sólo Jupyter) Autorizar TensorBoard.dev\n",
        "\n",
        "**Este paso no es necesario en Colab**\n",
        "\n",
        "Este paso requiere que se autentique en su consola de shell, fuera de Jupyter.  En su consola, ejecute el siguiente comando.\n",
        "\n",
        "`tensorboard dev list`\n",
        "\n",
        "Como parte de este flujo, se le proporcionará un código de autorización. Este código es necesario para dar su consentimiento a los Términos de servicio."
      ]
    },
    {
      "cell_type": "markdown",
      "metadata": {
        "id": "oKW8V5chyx6e"
      },
      "source": [
        "### Cargar en TensorBoard.dev\n",
        "\n",
        "Al cargar los registros de TensorBoard obtendrá una URL que podrá compartir con cualquiera.\n",
        "\n",
        "Los TensorBoards cargados son públicos, así que no cargue datos sensibles.\n",
        "\n",
        "El cargador saldrá cuando se haya cargado todo el logdir.  (Esto es lo que especifica el indicador `--one_shot`)."
      ]
    },
    {
      "cell_type": "code",
      "execution_count": null,
      "metadata": {
        "id": "n2PvxhOkW7vn"
      },
      "outputs": [],
      "source": [
        "!tensorboard dev upload --logdir ./logs \\\n",
        "  --name \"Simple experiment with MNIST\" \\\n",
        "  --description \"Training results from https://colab.sandbox.google.com/github/tensorflow/tensorboard/blob/master/docs/tbdev_getting_started.ipynb\" \\\n",
        "  --one_shot"
      ]
    },
    {
      "cell_type": "markdown",
      "metadata": {
        "id": "5QH5k4AUNE27"
      },
      "source": [
        "Cada carga individual tiene un ID de experimento único. Esto significa que si inicia una nueva carga con el mismo directorio, obtendrá un nuevo ID de experimento. Puede ver todos sus experimentos subidos en https://tensorboard.dev/experiments/. Alternativamente, puede listar sus experimentos en la terminal utilizando el siguiente comando:\n",
        "\n",
        "```\n",
        "tensorboard dev list\n",
        "```"
      ]
    },
    {
      "cell_type": "code",
      "execution_count": null,
      "metadata": {
        "id": "C2Pj3RQCNQvP"
      },
      "outputs": [],
      "source": [
        "!tensorboard dev list"
      ]
    },
    {
      "cell_type": "markdown",
      "metadata": {
        "id": "NyJsD3Ypyx6m"
      },
      "source": [
        "### Capturas de pantalla de TensorBoard.dev\n",
        "\n",
        "Este es el aspecto que tendrá cuando navegue en https://tensorboard.dev/experiments/:\n",
        "\n",
        "![screenshot of TensorBoard.dev experiment list](https://github.com/tensorflow/docs-l10n/blob/master/site/es-419/tensorboard/images/tbdev_experiment_list.png?raw=true)\n",
        "\n",
        "Este es el aspecto que tendrá cuando navegue a su nuevo experimento en TensorBoard.dev:\n",
        "\n",
        "![screenshot of TensorBoard.dev experiment dashboard](https://github.com/tensorflow/docs-l10n/blob/master/site/es-419/tensorboard/images/tbdev_getting_started.png?raw=true)"
      ]
    },
    {
      "cell_type": "markdown",
      "metadata": {
        "id": "JcZOGmjQNWk_"
      },
      "source": [
        "### Cómo borrar su experimento TensorBoard.dev\n",
        "\n",
        "Para eliminar un experimento que haya cargado, utilice el comando `delete` y especifique el `experiment_id` correspondiente. En la captura de pantalla anterior, el experiment_id aparece en la esquina inferior izquierda: `w1lkBAOrR4eH35Y7Lg1DQQ`."
      ]
    },
    {
      "cell_type": "code",
      "execution_count": null,
      "metadata": {
        "id": "VSkJTT9rNWJq"
      },
      "outputs": [],
      "source": [
        "# You must replace YOUR_EXPERIMENT_ID with the value output from the previous\n",
        "# tensorboard `list` command or `upload` command.  For example\n",
        "# `tensorboard dev delete --experiment_id pQpJNh00RG2Lf1zOe9BrQA`\n",
        "\n",
        "## !tensorboard dev delete --experiment_id YOUR_EXPERIMENT_ID_HERE"
      ]
    }
  ],
  "metadata": {
    "colab": {
      "collapsed_sections": [],
      "name": "tbdev_getting_started.ipynb",
      "toc_visible": true
    },
    "kernelspec": {
      "display_name": "Python 3",
      "name": "python3"
    }
  },
  "nbformat": 4,
  "nbformat_minor": 0
}
