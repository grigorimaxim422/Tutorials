{
  "cells": [
    {
      "cell_type": "markdown",
      "metadata": {
        "id": "SB93Ge748VQs"
      },
      "source": [
        "##### Copyright 2019 The TensorFlow Authors."
      ]
    },
    {
      "cell_type": "code",
      "execution_count": null,
      "metadata": {
        "cellView": "form",
        "id": "0sK8X2O9bTlz"
      },
      "outputs": [],
      "source": [
        "#@title Licensed under the Apache License, Version 2.0 (the \"License\");\n",
        "# you may not use this file except in compliance with the License.\n",
        "# You may obtain a copy of the License at\n",
        "#\n",
        "# https://www.apache.org/licenses/LICENSE-2.0\n",
        "#\n",
        "# Unless required by applicable law or agreed to in writing, software\n",
        "# distributed under the License is distributed on an \"AS IS\" BASIS,\n",
        "# WITHOUT WARRANTIES OR CONDITIONS OF ANY KIND, either express or implied.\n",
        "# See the License for the specific language governing permissions and\n",
        "# limitations under the License."
      ]
    },
    {
      "cell_type": "markdown",
      "metadata": {
        "id": "HEYuO5NFwDK9"
      },
      "source": [
        "# Cómo migrar el uso de tf.summary a TF 2.x\n",
        "\n",
        "<table class=\"tfo-notebook-buttons\" align=\"left\">\n",
        "  <td><a target=\"_blank\" href=\"https://www.tensorflow.org/tensorboard/migrate\"><img src=\"https://www.tensorflow.org/images/tf_logo_32px.png\">Ver en TensorFlow.org</a></td>\n",
        "  <td><a target=\"_blank\" href=\"https://colab.research.google.com/github/tensorflow/docs-l10n/blob/master/site/es-419/tensorboard/migrate.ipynb\"><img src=\"https://www.tensorflow.org/images/colab_logo_32px.png\">Ejecutar en Google Colab</a></td>\n",
        "  <td>     <a target=\"_blank\" href=\"https://github.com/tensorflow/docs-l10n/blob/master/site/es-419/tensorboard/migrate.ipynb\"><img src=\"https://www.tensorflow.org/images/GitHub-Mark-32px.png\">Ver fuente en GitHub</a>\n",
        "</td>\n",
        "  <td><a href=\"https://storage.googleapis.com/tensorflow_docs/docs-l10n/site/es-419/tensorboard/migrate.ipynb\"><img src=\"https://www.tensorflow.org/images/download_logo_32px.png\">Descargar el bloc de notas</a></td>\n",
        "</table>"
      ]
    },
    {
      "cell_type": "markdown",
      "metadata": {
        "id": "56V5oun18ZdZ"
      },
      "source": [
        "> Nota: Este documento es para personas que ya están familiarizadas con TensorFlow 1.x TensorBoard y que quieren migrar grandes bases de código TensorFlow de TensorFlow 1.x a 2.x. Si es nuevo en TensorBoard, consulte el documento [cómo empezar](get_started.ipynb) que se encuentra en su página web. Si está utilizando `tf.keras` puede que no necesite realizar ninguna acción para actualizar a TensorFlow 2.x.\n"
      ]
    },
    {
      "cell_type": "code",
      "execution_count": null,
      "metadata": {
        "id": "c50hsFk2MiWs"
      },
      "outputs": [],
      "source": [
        "import tensorflow as tf"
      ]
    },
    {
      "cell_type": "markdown",
      "metadata": {
        "id": "56XvRdPy-ewT"
      },
      "source": [
        "TensorFlow 2.x incluye cambios significativos en la API `tf.summary` utilizada para escribir datos de resumen para su visualización en TensorBoard."
      ]
    },
    {
      "cell_type": "markdown",
      "metadata": {
        "id": "V_JOBTVzU5Cx"
      },
      "source": [
        "## ¿Qué ha cambiado?\n",
        "\n",
        "Es útil pensar en la API `tf.summary` como dos API secundarias:\n",
        "\n",
        "- Un conjunto de operaciones para grabar resúmenes individuales - `summary.scalar()`, `summary.histogram()`, `summary.image()`, `summary.audio()`, y `summary.text()` - que se llaman de forma integrada desde el código de su modelo.\n",
        "- Escribir la lógica que recoge estos resúmenes individuales y los escribe en un archivo de registro con un formato especial (que TensorBoard lee después para generar visualizaciones)."
      ]
    },
    {
      "cell_type": "markdown",
      "metadata": {
        "id": "9-rVv-EYU8_E"
      },
      "source": [
        "### En TF 1.x\n",
        "\n",
        "Las dos mitades tuvieron que conectarse manualmente, es decir, extrayendo las salidas de las operaciones de resumen mediante `Session.run()` y llamando a `FileWriter.add_summary(output, step)`.  La opción `v1.summary.merge_all()` facilitaba esta tarea utilizando una colección de grafos para agregar todas las salidas de las operaciones de resumen, pero este enfoque seguía funcionando mal para la ejecución eager y el flujo de control, por lo que era especialmente inadecuado para la TF 2.x."
      ]
    },
    {
      "cell_type": "markdown",
      "metadata": {
        "id": "rh8R2g5FWbsQ"
      },
      "source": [
        "### En TF 2.X\n",
        "\n",
        "Las dos mitades están estrechamente integradas, y ahora las operaciones individuales `tf.summary` escriben sus datos inmediatamente cuando se ejecutan. El uso de la API desde su código modelo debería seguir pareciéndole familiar, pero ahora es amigable con la ejecución eager a la vez que sigue siendo compatible con el modo gráfico.  La integración de ambas mitades de la API significa que el `summary.FileWriter` es ahora parte del contexto de ejecución de TensorFlow y se accede directamente por `tf.summary` ops, por lo que la configuración de los escritores es la parte principal que se ve diferente."
      ]
    },
    {
      "cell_type": "markdown",
      "metadata": {
        "id": "em7GQju5VA0I"
      },
      "source": [
        "Ejemplo de uso con ejecución eager, el valor predeterminado en TF 2.x:"
      ]
    },
    {
      "cell_type": "code",
      "execution_count": null,
      "metadata": {
        "id": "GgFXOtSeVFqP"
      },
      "outputs": [],
      "source": [
        "writer = tf.summary.create_file_writer(\"/tmp/mylogs/eager\")\n",
        "\n",
        "with writer.as_default():\n",
        "  for step in range(100):\n",
        "    # other model code would go here\n",
        "    tf.summary.scalar(\"my_metric\", 0.5, step=step)\n",
        "    writer.flush()"
      ]
    },
    {
      "cell_type": "code",
      "execution_count": null,
      "metadata": {
        "id": "h5fk_NG7QKve"
      },
      "outputs": [],
      "source": [
        "ls /tmp/mylogs/eager"
      ]
    },
    {
      "cell_type": "markdown",
      "metadata": {
        "id": "FvBBeFxZVLzW"
      },
      "source": [
        "Ejemplo de uso con la ejecución del gráfico tf.function:"
      ]
    },
    {
      "cell_type": "code",
      "execution_count": null,
      "metadata": {
        "id": "kovK0LEEVKjR"
      },
      "outputs": [],
      "source": [
        "writer = tf.summary.create_file_writer(\"/tmp/mylogs/tf_function\")\n",
        "\n",
        "@tf.function\n",
        "def my_func(step):\n",
        "  with writer.as_default():\n",
        "    # other model code would go here\n",
        "    tf.summary.scalar(\"my_metric\", 0.5, step=step)\n",
        "\n",
        "for step in tf.range(100, dtype=tf.int64):\n",
        "  my_func(step)\n",
        "  writer.flush()"
      ]
    },
    {
      "cell_type": "code",
      "execution_count": null,
      "metadata": {
        "id": "Qw5nHhRUSM7_"
      },
      "outputs": [],
      "source": [
        "ls /tmp/mylogs/tf_function"
      ]
    },
    {
      "cell_type": "markdown",
      "metadata": {
        "id": "5SY6eYitUJH_"
      },
      "source": [
        "Ejemplo de uso con ejecución de gráficos TF 1.x heredados:\n"
      ]
    },
    {
      "cell_type": "code",
      "execution_count": null,
      "metadata": {
        "id": "OyQgeqZhVRNB"
      },
      "outputs": [],
      "source": [
        "g = tf.compat.v1.Graph()\n",
        "with g.as_default():\n",
        "  step = tf.Variable(0, dtype=tf.int64)\n",
        "  step_update = step.assign_add(1)\n",
        "  writer = tf.summary.create_file_writer(\"/tmp/mylogs/session\")\n",
        "  with writer.as_default():\n",
        "    tf.summary.scalar(\"my_metric\", 0.5, step=step)\n",
        "  all_summary_ops = tf.compat.v1.summary.all_v2_summary_ops()\n",
        "  writer_flush = writer.flush()\n",
        "\n",
        "\n",
        "with tf.compat.v1.Session(graph=g) as sess:\n",
        "  sess.run([writer.init(), step.initializer])\n",
        "\n",
        "  for i in range(100):\n",
        "    sess.run(all_summary_ops)\n",
        "    sess.run(step_update)\n",
        "    sess.run(writer_flush)  "
      ]
    },
    {
      "cell_type": "code",
      "execution_count": null,
      "metadata": {
        "id": "iqKOyawnNQSH"
      },
      "outputs": [],
      "source": [
        "ls /tmp/mylogs/session"
      ]
    },
    {
      "cell_type": "markdown",
      "metadata": {
        "id": "xEJIh4btVVRb"
      },
      "source": [
        "## Cómo convertir su código\n",
        "\n",
        "La conversión del uso existente de `tf.summary` a la API TF 2.x no puede automatizarse de forma segura, por lo que el script [`tf_upgrade_v2`](https://www.tensorflow.org/guide/upgrade) simplemente reescribe todo a `tf.compat.v1.summary` y no habilitará los comportamientos TF 2.x automáticamente."
      ]
    },
    {
      "cell_type": "markdown",
      "metadata": {
        "id": "1972f8ff0073"
      },
      "source": [
        "### Migración parcial\n",
        "\n",
        "Para facilitar la migración a la TF 2.x a los usuarios de código modelo que aún dependen en gran medida de las operaciones de registro de la API de resumen de la TF 1.x como `tf.compat.v1.summary.scalar()`, es posible migrar primero sólo las API de escritor, lo que permite que las operaciones de resumen individuales de la TF 1.x dentro de su código modelo se migren completamente en un momento posterior.\n",
        "\n",
        "Para respaldar este estilo de migración, <a href=\"https://www.tensorflow.org/api_docs/python/tf/compat/v1/summary\"><code>tf.compat.v1.summary</code></a> reenviará automáticamente a sus equivalentes TF 2.x en las siguientes condiciones:\n",
        "\n",
        "- El contexto más externo es el modo eager\n",
        "- Se estableció un escritor de resúmenes TF 2.x predeterminado\n",
        "- Se estableció un valor diferente de paso para el escritor (utilizando <a href=\"https://www.tensorflow.org/api_docs/python/tf/summary/SummaryWriter#as_default\"><code>tf.summary.SummaryWriter.as_default</code></a>, <a href=\"https://www.tensorflow.org/api_docs/python/tf/summary/experimental/set_step\"><code>tf.summary.experimental.set_step</code></a>, o alternativamente <a href=\"https://www.tensorflow.org/api_docs/python/tf/compat/v1/train/create_global_step\"><code>tf.compat.v1.train.create_global_step</code></a>).\n",
        "\n",
        "Tenga en cuenta que cuando se invoque la implementación de resumen de TF 2.x, el valor que devolverá será un tensor bytestring vacío, para evitar la duplicación de la escritura del resumen. Además, el reenvío de argumentos de entrada es de mejor esfuerzo y no se conservarán todos los argumentos (por ejemplo, el argumento `family` se conservará, mientras que `collections` se eliminará).\n",
        "\n",
        "Ejemplo para invocar comportamientos <a href=\"https://www.tensorflow.org/api_docs/python/tf/summary/scalar\"><code>tf.summary.scalar</code></a> en <a href=\"https://www.tensorflow.org/api_docs/python/tf/compat/v1/summary/scalar\"><code>tf.compat.v1.summary.scalar</code></a>:"
      ]
    },
    {
      "cell_type": "code",
      "execution_count": null,
      "metadata": {
        "id": "6457297c0b9d"
      },
      "outputs": [],
      "source": [
        "# Enable eager execution.\n",
        "tf.compat.v1.enable_v2_behavior()\n",
        "\n",
        "# A default TF 2.x summary writer is available.\n",
        "writer = tf.summary.create_file_writer(\"/tmp/mylogs/enable_v2_in_v1\")\n",
        "# A step is set for the writer.\n",
        "with writer.as_default(step=0):\n",
        "  # Below invokes `tf.summary.scalar`, and the return value is an empty bytestring.\n",
        "  tf.compat.v1.summary.scalar('float', tf.constant(1.0), family=\"family\")"
      ]
    },
    {
      "cell_type": "markdown",
      "metadata": {
        "id": "Pq4Fy1bSUdrZ"
      },
      "source": [
        "### Migración completa\n",
        "\n",
        "Para migrar completamente a TF 2.x, tendrá que adaptar su código como se indica a continuación:\n",
        "\n",
        "1. Un escritor predeterminado establecido a través de `.as_default()` debe estar presente para utilizar las operaciones de resumen\n",
        "\n",
        "    - Esto significa ejecutar las operaciones con avidez o utilizar las operaciones en la creación de gráficos\n",
        "    - Sin un escritor predeterminado, las operaciones de resumen se convierten en operaciones silenciosas\n",
        "    - Los escritores predeterminados no se propagan (todavía) dentro del límite de ejecución de `@tf.function` - sólo se detectan cuando se rastrea la función - por lo que la práctica recomendada es llamar a `writer.as_default()` dentro del cuerpo de la función, y asegurarse de que el objeto del escritor sigue existiendo mientras se esté utilizando `@tf.function`\n",
        "\n",
        "2. El valor \"step\" debe pasarse a cada operación mediante el argumento `step`\n",
        "\n",
        "    - TensorBoard requiere un valor escalonado para representar los datos como una serie temporal\n",
        "    - El paso explícito es necesario porque se eliminó el paso global del TF 1.x, por lo que cada operación debe determinar la variable de paso que desea leer\n",
        "    - Para reducir las repeticiones, se dispone de soporte experimental para registrar un valor de paso predeterminado como `tf.summary.experimental.set_step()`, pero se trata de una funcionalidad provisional que puede modificarse sin previo aviso\n",
        "\n",
        "3. Las firmas de función de las operaciones de resumen individuales han cambiado\n",
        "\n",
        "    - El valor devuelto ahora es un valor booleano (que indica si realmente se escribió un resumen)\n",
        "    - El nombre del segundo parámetro (si se utiliza) cambió de `tensor` a `data`\n",
        "    - Se eliminó el parámetro `collections`; las colecciones son sólo TF 1.x\n",
        "    - Se eliminó el parámetro `family`; utilice simplemente `tf.name_scope()`\n",
        "\n",
        "4. [Sólo para usuarios del modo gráfico heredado / ejecución de la sesión]\n",
        "\n",
        "    - Primero inicialice el escritor con `v1.Session.run(writer.init())`\n",
        "\n",
        "    - Utilice `v1.summary.all_v2_summary_ops()` para obtener todas las operaciones de resumen de TF 2.x para el gráfico actual, por ejemplo para ejecutarlas mediante `Session.run()`\n",
        "\n",
        "    - Purgar el escritor con `v1.Session.run(writer.flush())` y lo mismo para `close()`\n",
        "\n",
        "Si su código TF 1.x utilizaba en cambio la API `tf.contrib.summary` API, es mucho más similar a la API de TF 2.x, por lo que el script `tf_upgrade_v2` automatizará la mayoría de los pasos de la migración (y emitirá advertencias o errores para cualquier uso que no pueda migrarse completamente).  En su mayor parte, sólo reescribe las llamadas a la API a `tf.compat.v2.summary`; si sólo necesita compatibilidad con TF 2.x, puede eliminar el `compat.v2` y referenciarlo simplemente como `tf.summary`."
      ]
    },
    {
      "cell_type": "markdown",
      "metadata": {
        "id": "1GUZRWSkW3ZC"
      },
      "source": [
        "## Consejos adicionales\n",
        "\n",
        "Además de las áreas críticas mencionadas, también han cambiado algunos aspectos auxiliares:\n",
        "\n",
        "- El registro condicional (como \"registrar cada 100 pasos\") tiene un nuevo aspecto\n",
        "\n",
        "    - Para controlar las operaciones y el código asociado, puede envolverlas en una sentencia if normal (que funciona en modo eager y en [`@tf.function` mediante autógrafo](https://www.tensorflow.org/alpha/guide/autograph)) o en una `tf.cond`\n",
        "    - Para controlar sólo los resúmenes, utilice el nuevo administrador de contexto `tf.summary.record_if()`, y pase la condición booleana de su elección\n",
        "    - Estos sustituyen al patrón TF 1.x:\n",
        "        ```\n",
        "        if condition:\n",
        "          writer.add_summary()\n",
        "        ```\n"
      ]
    },
    {
      "cell_type": "markdown",
      "metadata": {
        "id": "9VMYrKn4Uh52"
      },
      "source": [
        "- Sin escritura directa de `tf.compat.v1.Graph` - en lugar de ello utilice funciones de rastreo\n",
        "\n",
        "    - La ejecución de los gráficos en TF 2.x utiliza `@tf.function` en vez del gráfico explícito\n",
        "    - En TF 2.x, utilice las nuevas API de seguimiento `tf.summary.trace_on()` y `tf.summary.trace_export()` para registrar los gráficos de las funciones ejecutadas\n"
      ]
    },
    {
      "cell_type": "markdown",
      "metadata": {
        "id": "UGItA6U0UkDx"
      },
      "source": [
        "- No más caché de escritor global por logdir con `tf.summary.FileWriterCache`\n",
        "\n",
        "    - Los usuarios deberían implementar su propia caché/compartición de objetos escritores, o simplemente utilizar escritores separados (el soporte de TensorBoard para esto último está [en progreso](https://github.com/tensorflow/tensorboard/issues/1063))\n"
      ]
    },
    {
      "cell_type": "markdown",
      "metadata": {
        "id": "d7BQJVcsUnMp"
      },
      "source": [
        "- La representación binaria del archivo de eventos ha cambiado\n",
        "\n",
        "    - TensorBoard 1.x ya es compatible con el nuevo formato; esta diferencia sólo afecta a los usuarios que analizan manualmente los datos resumidos de los archivos de eventos\n",
        "    - Los datos de resumen se almacenan ahora como bytes de tensor; puede utilizar `tf.make_ndarray(event.summary.value[0].tensor)` para convertirlos a numpy"
      ]
    }
  ],
  "metadata": {
    "colab": {
      "collapsed_sections": [],
      "name": "migrate.ipynb",
      "toc_visible": true
    },
    "kernelspec": {
      "display_name": "Python 3",
      "name": "python3"
    }
  },
  "nbformat": 4,
  "nbformat_minor": 0
}
