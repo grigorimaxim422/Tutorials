{
  "cells": [
    {
      "cell_type": "markdown",
      "metadata": {
        "id": "826IBSWMN4rr"
      },
      "source": [
        "##### Copyright 2020 The TensorFlow Authors."
      ]
    },
    {
      "cell_type": "code",
      "execution_count": null,
      "metadata": {
        "cellView": "form",
        "id": "ITj3u97-tNR7"
      },
      "outputs": [],
      "source": [
        "#@title Licensed under the Apache License, Version 2.0 (the \"License\");\n",
        "# you may not use this file except in compliance with the License.\n",
        "# You may obtain a copy of the License at\n",
        "#\n",
        "# https://www.apache.org/licenses/LICENSE-2.0\n",
        "#\n",
        "# Unless required by applicable law or agreed to in writing, software\n",
        "# distributed under the License is distributed on an \"AS IS\" BASIS,\n",
        "# WITHOUT WARRANTIES OR CONDITIONS OF ANY KIND, either express or implied.\n",
        "# See the License for the specific language governing permissions and\n",
        "# limitations under the License."
      ]
    },
    {
      "cell_type": "markdown",
      "metadata": {
        "id": "BYwfpc4wN4rt"
      },
      "source": [
        "# Guía completa de agrupación de pesos"
      ]
    },
    {
      "cell_type": "markdown",
      "metadata": {
        "id": "IFva_Ed5N4ru"
      },
      "source": [
        "<table class=\"tfo-notebook-buttons\" align=\"left\">\n",
        "  <td>     <a target=\"_blank\" href=\"https://www.tensorflow.org/model_optimization/guide/clustering/clustering_comprehensive_guide\"><img src=\"https://www.tensorflow.org/images/tf_logo_32px.png\">Ver en TensorFlow.org</a>\n",
        "</td>\n",
        "  <td>     <a target=\"_blank\" href=\"https://colab.research.google.com/github/tensorflow/docs-l10n/blob/master/site/es-419/model_optimization/guide/clustering/clustering_comprehensive_guide.ipynb\"><img src=\"https://www.tensorflow.org/images/colab_logo_32px.png\">Ejecutar en Google Colab</a>\n",
        "</td>\n",
        "  <td>     <a target=\"_blank\" href=\"https://github.com/tensorflow/docs-l10n/blob/master/site/es-419/model_optimization/guide/clustering/clustering_comprehensive_guide.ipynb\"><img src=\"https://www.tensorflow.org/images/GitHub-Mark-32px.png\">Ver código fuente en GitHub</a>\n",
        "</td>\n",
        "  <td>     <a href=\"https://storage.googleapis.com/tensorflow_docs/docs-l10n/site/es-419/model_optimization/guide/clustering/clustering_comprehensive_guide.ipynb\"><img src=\"https://www.tensorflow.org/images/download_logo_32px.png\">Descargar el bloc de notas</a>\n",
        "</td>\n",
        "</table>"
      ]
    },
    {
      "cell_type": "markdown",
      "metadata": {
        "id": "tidmcl3sN4rv"
      },
      "source": [
        "Le damos la bienvenida la guía completa de *agrupación de pesos*, que forma parte del kit de herramientas de optimización de modelos de TensorFlow.\n",
        "\n",
        "En esta página, se documentan varios casos de uso y se muestra cómo usar la API para cada uno. Una vez que sepa qué API necesita, busque los parámetros y los detalles de bajo nivel en los [documentos de API](https://www.tensorflow.org/model_optimization/api_docs/python/tfmot/clustering):\n",
        "\n",
        "- Si quiere ver los beneficios de la agrupación de pesos y lo que se admite, consulte la [descripción general](https://www.tensorflow.org/model_optimization/guide/clustering).\n",
        "- Para ver un ejemplo único de principio a fin, consulte el [ejemplo de agrupación de pesos](https://www.tensorflow.org/model_optimization/guide/clustering/clustering_example).\n",
        "\n",
        "En esta guía, se tratan los siguientes casos de uso:\n",
        "\n",
        "- Definir un modelo agrupado.\n",
        "- Establecer punto de verificación y deserializar un modelo agrupado.\n",
        "- Mejorar la precisión del modelo agrupado.\n",
        "- Solo para la implementación, debe tomar medidas para ver los beneficios de la compresión.\n"
      ]
    },
    {
      "cell_type": "markdown",
      "metadata": {
        "id": "RRtKxbo8N4rv"
      },
      "source": [
        "## Preparación\n"
      ]
    },
    {
      "cell_type": "code",
      "execution_count": null,
      "metadata": {
        "id": "08dJRvOqN4rw"
      },
      "outputs": [],
      "source": [
        "! pip install -q tensorflow-model-optimization\n",
        "\n",
        "import tensorflow as tf\n",
        "import numpy as np\n",
        "import tempfile\n",
        "import os\n",
        "import tensorflow_model_optimization as tfmot\n",
        "\n",
        "input_dim = 20\n",
        "output_dim = 20\n",
        "x_train = np.random.randn(1, input_dim).astype(np.float32)\n",
        "y_train = tf.keras.utils.to_categorical(np.random.randn(1), num_classes=output_dim)\n",
        "\n",
        "def setup_model():\n",
        "  model = tf.keras.Sequential([\n",
        "      tf.keras.layers.Dense(input_dim, input_shape=[input_dim]),\n",
        "      tf.keras.layers.Flatten()\n",
        "  ])\n",
        "  return model\n",
        "\n",
        "def train_model(model):\n",
        "  model.compile(\n",
        "      loss=tf.keras.losses.categorical_crossentropy,\n",
        "      optimizer='adam',\n",
        "      metrics=['accuracy']\n",
        "  )\n",
        "  model.summary()\n",
        "  model.fit(x_train, y_train)\n",
        "  return model\n",
        "\n",
        "def save_model_weights(model):\n",
        "  _, pretrained_weights = tempfile.mkstemp('.h5')\n",
        "  model.save_weights(pretrained_weights)\n",
        "  return pretrained_weights\n",
        "\n",
        "def setup_pretrained_weights():\n",
        "  model= setup_model()\n",
        "  model = train_model(model)\n",
        "  pretrained_weights = save_model_weights(model)\n",
        "  return pretrained_weights\n",
        "\n",
        "def setup_pretrained_model():\n",
        "  model = setup_model()\n",
        "  pretrained_weights = setup_pretrained_weights()\n",
        "  model.load_weights(pretrained_weights)\n",
        "  return model\n",
        "\n",
        "def save_model_file(model):\n",
        "  _, keras_file = tempfile.mkstemp('.h5') \n",
        "  model.save(keras_file, include_optimizer=False)\n",
        "  return keras_file\n",
        "\n",
        "def get_gzipped_model_size(model):\n",
        "  # It returns the size of the gzipped model in bytes.\n",
        "  import os\n",
        "  import zipfile\n",
        "\n",
        "  keras_file = save_model_file(model)\n",
        "\n",
        "  _, zipped_file = tempfile.mkstemp('.zip')\n",
        "  with zipfile.ZipFile(zipped_file, 'w', compression=zipfile.ZIP_DEFLATED) as f:\n",
        "    f.write(keras_file)\n",
        "  return os.path.getsize(zipped_file)\n",
        "\n",
        "setup_model()\n",
        "pretrained_weights = setup_pretrained_weights()"
      ]
    },
    {
      "cell_type": "markdown",
      "metadata": {
        "id": "ARd37qONN4rz"
      },
      "source": [
        "## Definir un modelo agrupado\n"
      ]
    },
    {
      "cell_type": "markdown",
      "metadata": {
        "id": "zHB3pkU3N4r0"
      },
      "source": [
        "### Agrupar un modelo completo (secuencial y funcional)"
      ]
    },
    {
      "cell_type": "markdown",
      "metadata": {
        "id": "ig-il1lmN4r1"
      },
      "source": [
        "**Consejos** para una mejor precisión del modelo:\n",
        "\n",
        "- Debe pasar un modelo preentrenado con una precisión aceptable para esta API. Entrenar modelos desde cero con agrupamiento da como resultado una precisión inferior.\n",
        "- En algunos casos, agrupar determinadas capas tiene un efecto perjudicial en la precisión del modelo. Marque \"Cluster some layers\" (Agrupar algunas capas) para ver cómo omitir la agrupación de las capas que más afectan la precisión.\n",
        "\n",
        "Para agrupar todas las capas, aplique `tfmot.clustering.keras.cluster_weights` al modelo.\n"
      ]
    },
    {
      "cell_type": "code",
      "execution_count": null,
      "metadata": {
        "id": "29g7OADjN4r1"
      },
      "outputs": [],
      "source": [
        "import tensorflow_model_optimization as tfmot\n",
        "\n",
        "cluster_weights = tfmot.clustering.keras.cluster_weights\n",
        "CentroidInitialization = tfmot.clustering.keras.CentroidInitialization\n",
        "\n",
        "clustering_params = {\n",
        "  'number_of_clusters': 3,\n",
        "  'cluster_centroids_init': CentroidInitialization.KMEANS_PLUS_PLUS\n",
        "}\n",
        "\n",
        "model = setup_model()\n",
        "model.load_weights(pretrained_weights)\n",
        "\n",
        "clustered_model = cluster_weights(model, **clustering_params)\n",
        "\n",
        "clustered_model.summary()"
      ]
    },
    {
      "cell_type": "markdown",
      "metadata": {
        "id": "zEOHK4OON4r7"
      },
      "source": [
        "### Agrupar algunas capas (modelos secuenciales y funcionales)\n"
      ]
    },
    {
      "cell_type": "markdown",
      "metadata": {
        "id": "ENscQ7ZWN4r8"
      },
      "source": [
        "**Consejos** para una mejor precisión del modelo:\n",
        "\n",
        "- Debe pasar un modelo preentrenado con una precisión aceptable para esta API. Entrenar modelos desde cero con agrupamiento da como resultado una precisión inferior.\n",
        "- Agrupe las capas posteriores con parámetros más redundantes (por ejemplo, `tf.keras.layers.Dense`, `tf.keras.layers.Conv2D`), a diferencia de las primeras capas.\n",
        "- Congele las primeras capas antes de las capas agrupadas durante el ajuste. Trate el número de capas congeladas como un hiperparámetro. Empíricamente, congelar la mayoría de las primeras capas es ideal para la API de agrupación actual.\n",
        "- Evite agrupar capas críticas (por ejemplo, mecanismo de atención).\n",
        "\n",
        "**Más**: en los documentos de la API `tfmot.clustering.keras.cluster_weights` se pueden encontrar detalles sobre cómo variar la configuración de la agrupación por capas."
      ]
    },
    {
      "cell_type": "code",
      "execution_count": null,
      "metadata": {
        "id": "IqBdl3uJN4r_"
      },
      "outputs": [],
      "source": [
        "# Create a base model\n",
        "base_model = setup_model()\n",
        "base_model.load_weights(pretrained_weights)\n",
        "\n",
        "# Helper function uses `cluster_weights` to make only \n",
        "# the Dense layers train with clustering\n",
        "def apply_clustering_to_dense(layer):\n",
        "  if isinstance(layer, tf.keras.layers.Dense):\n",
        "    return cluster_weights(layer, **clustering_params)\n",
        "  return layer\n",
        "\n",
        "# Use `tf.keras.models.clone_model` to apply `apply_clustering_to_dense` \n",
        "# to the layers of the model.\n",
        "clustered_model = tf.keras.models.clone_model(\n",
        "    base_model,\n",
        "    clone_function=apply_clustering_to_dense,\n",
        ")\n",
        "\n",
        "clustered_model.summary()"
      ]
    },
    {
      "cell_type": "markdown",
      "metadata": {
        "id": "bU0SIhY2Q63C"
      },
      "source": [
        "### Agrupar capas convolucionales por canal\n",
        "\n",
        "El modelo agrupado podría pasarse por más optimizaciones, como una [cuantización posentrenamiento](https://www.tensorflow.org/lite/performance/post_training_quantization). Si se realiza la cuantización por canal, entonces el modelo también debe agruparse por canal. Esto aumenta la precisión del modelo agrupado y cuantizado.\n",
        "\n",
        "**Nota:** solo las capas Conv2D están agrupadas por canal\n",
        "\n",
        "Para agrupar por canal, se debe establecer el parámetro `cluster_per_channel` como `True`. Podría configurarse para algunas capas o para todo el modelo.\n",
        "\n",
        "**Consejos:**\n",
        "\n",
        "- Si se va a cuantificar aún más un modelo, puede considerar usar la [técnica con reconocimiento de cuantización (QAT) de preservación de clústeres](https://www.tensorflow.org/model_optimization/guide/combine/collaborative_optimization).\n",
        "\n",
        "- Se podría podar el modelo antes de aplicar la agrupación por canal. Con el parámetro `preserve_sparsity` establecido en `True`, la dispersión se conserva durante la agrupación por canal. Tenga en cuenta que en este caso se debe usar la [técnica con reconocimiento de cuantización (QAT) de preservación de clústeres y dispersión](https://www.tensorflow.org/model_optimization/guide/combine/collaborative_optimization)."
      ]
    },
    {
      "cell_type": "markdown",
      "metadata": {
        "id": "WcFrw1dHmxTr"
      },
      "source": [
        "### Agrupar la capa Keras personalizada o especificar qué pesos de capa agrupar\n",
        "\n",
        "`tfmot.clustering.keras.ClusterableLayer` sirve para dos casos de uso:\n",
        "\n",
        "1. Agrupar cualquier capa que no sea compatible de forma nativa, incluida una capa Keras personalizada.\n",
        "2. Especificar qué pesos de una capa admitida se agruparán.\n",
        "\n",
        "Por ejemplo, la API por defecto agrupa solo el núcleo de la capa `Dense`. En el siguiente ejemplo, se muestra cómo modificarlo para agrupar también el sesgo. Tenga en cuenta que al derivar de la capa Keras, se debe anular la función `get_clusterable_weights`, donde se especifica el nombre de la variable entrenable que se agrupará y la variable entrenable en sí. Por ejemplo, si devuelve una lista vacía [], no se podrá agrupar ningún peso.\n",
        "\n",
        "**Error común:** agrupar el sesgo suele perjudicar demasiado la precisión del modelo."
      ]
    },
    {
      "cell_type": "code",
      "execution_count": null,
      "metadata": {
        "id": "73iboQ7MmxTs"
      },
      "outputs": [],
      "source": [
        "class MyDenseLayer(tf.keras.layers.Dense, tfmot.clustering.keras.ClusterableLayer):\n",
        "\n",
        "  def get_clusterable_weights(self):\n",
        "   # Cluster kernel and bias. This is just an example, clustering\n",
        "   # bias usually hurts model accuracy.\n",
        "   return [('kernel', self.kernel), ('bias', self.bias)]\n",
        "\n",
        "# Use `cluster_weights` to make the `MyDenseLayer` layer train with clustering as usual.\n",
        "model_for_clustering = tf.keras.Sequential([\n",
        "  tfmot.clustering.keras.cluster_weights(MyDenseLayer(20, input_shape=[input_dim]), **clustering_params),\n",
        "  tf.keras.layers.Flatten()\n",
        "])\n",
        "\n",
        "model_for_clustering.summary()"
      ]
    },
    {
      "cell_type": "markdown",
      "metadata": {
        "id": "SYlWPXEWmxTs"
      },
      "source": [
        "También puede usar `tfmot.clustering.keras.ClusterableLayer` para agrupar una capa personalizada de Keras. Para hacer esto, debe ampliar `tf.keras.Layer` como de costumbre e implementar las funciones `__init__`, `call` y `build`, pero también se debe amploar la clase `clusterable_layer.ClusterableLayer` e implementar:\n",
        "\n",
        "1. `get_clusterable_weights`, donde se especifica el núcleo de peso que se agrupará, como se muestra anteriormente.\n",
        "2. `get_clusterable_algorithm`, donde se especifica el algoritmo de agrupamiento para el tensor de peso. Se hace así porque se debe especificar cómo se configuran los pesos de las capas personalizadas para la agrupación. La clase de algoritmo de agrupamiento que se devuelve debe derivarse de la clase `clustering_algorithm.ClusteringAlgorithm` y la se debe sobreescribir la función `get_pulling_indices`. Puede encontrar un ejemplo de esta función, que admite pesos de rangos unidimensionales, bidimensionales y tridimencionales [aquí](https://github.com/tensorflow/model-optimization/blob/18e87d262e536c9a742aef700880e71b47a7f768/tensorflow_model_optimization/python/core/clustering/keras/clustering_algorithm.py#L62).\n",
        "\n",
        "Puede encontrar un ejemplo de este caso de uso [aquí](https://github.com/tensorflow/model-optimization/blob/master/tensorflow_model_optimization/python/core/clustering/keras/mnist_clusterable_layer_test.py)."
      ]
    },
    {
      "cell_type": "markdown",
      "metadata": {
        "id": "hN0DgpvD5Add"
      },
      "source": [
        "## Establecer punto de verificación y deserializar un modelo agrupado"
      ]
    },
    {
      "cell_type": "markdown",
      "metadata": {
        "id": "hfji5KWN6XCF"
      },
      "source": [
        "**Su caso de uso:** este código solo es necesario para el formato del modelo HDF5 (no para pesos HDF5 u otros formatos)."
      ]
    },
    {
      "cell_type": "code",
      "execution_count": null,
      "metadata": {
        "id": "w7P67mPk6RkQ"
      },
      "outputs": [],
      "source": [
        "# Define the model.\n",
        "base_model = setup_model()\n",
        "base_model.load_weights(pretrained_weights)\n",
        "clustered_model = cluster_weights(base_model, **clustering_params)\n",
        "\n",
        "# Save or checkpoint the model.\n",
        "_, keras_model_file = tempfile.mkstemp('.h5')\n",
        "clustered_model.save(keras_model_file, include_optimizer=True)\n",
        "\n",
        "# `cluster_scope` is needed for deserializing HDF5 models.\n",
        "with tfmot.clustering.keras.cluster_scope():\n",
        "  loaded_model = tf.keras.models.load_model(keras_model_file)\n",
        "\n",
        "loaded_model.summary()"
      ]
    },
    {
      "cell_type": "markdown",
      "metadata": {
        "id": "cUv-scK-N4sN"
      },
      "source": [
        "## Mejorar la precisión del modelo agrupado"
      ]
    },
    {
      "cell_type": "markdown",
      "metadata": {
        "id": "-fZZopDBN4sO"
      },
      "source": [
        "Para su caso de uso específico, tenga en cuenta estos consejos:\n",
        "\n",
        "- La inicialización del centroide juega un papel clave en la precisión del modelo optimizado final. En general, la inicialización kmeans++ supera a la inicialización lineal, de densidad y aleatoria. Cuando no se usa kmeans++, la inicialización lineal tiende a superar la densidad y la inicialización aleatoria, ya que no suele omitir pesos grandes. Sin embargo, se ha observado que la inicialización de la densidad proporciona una mayor precisión en el caso de usar muy pocos grupos en pesos con distribuciones bimodales.\n",
        "\n",
        "- Establezca una tasa de aprendizaje que sea menor que la del entrenamiento al ajustar el modelo agrupado.\n",
        "\n",
        "- Para obtener ideas generales para mejorar la precisión del modelo, busque sugerencias para sus casos de uso en \"Definir un modelo agrupado\"."
      ]
    },
    {
      "cell_type": "markdown",
      "metadata": {
        "id": "4DXw7YbyN4sP"
      },
      "source": [
        "## Implementación"
      ]
    },
    {
      "cell_type": "markdown",
      "metadata": {
        "id": "5Y5zLfPzN4sQ"
      },
      "source": [
        "### Exportar modelo con compresión de tamaño"
      ]
    },
    {
      "cell_type": "markdown",
      "metadata": {
        "id": "wX4OrHD9N4sQ"
      },
      "source": [
        "**Error común**: tanto <code>strip_clustering</code> como la aplicación de un algoritmo de compresión estándar (por ejemplo, mediante gzip) son necesarios para ver los beneficios de la compresión de la agrupación."
      ]
    },
    {
      "cell_type": "code",
      "execution_count": null,
      "metadata": {
        "id": "ZvuiCBsVN4sR"
      },
      "outputs": [],
      "source": [
        "model = setup_model()\n",
        "clustered_model = cluster_weights(model, **clustering_params)\n",
        "\n",
        "clustered_model.compile(\n",
        "    loss=tf.keras.losses.categorical_crossentropy,\n",
        "    optimizer='adam',\n",
        "    metrics=['accuracy']\n",
        ")\n",
        "\n",
        "clustered_model.fit(\n",
        "    x_train,\n",
        "    y_train\n",
        ")\n",
        "\n",
        "final_model = tfmot.clustering.keras.strip_clustering(clustered_model)\n",
        "\n",
        "print(\"final model\")\n",
        "final_model.summary()\n",
        "\n",
        "print(\"\\n\")\n",
        "print(\"Size of gzipped clustered model without stripping: %.2f bytes\" \n",
        "      % (get_gzipped_model_size(clustered_model)))\n",
        "print(\"Size of gzipped clustered model with stripping: %.2f bytes\" \n",
        "      % (get_gzipped_model_size(final_model)))"
      ]
    }
  ],
  "metadata": {
    "colab": {
      "collapsed_sections": [],
      "name": "clustering_comprehensive_guide.ipynb",
      "toc_visible": true
    },
    "kernelspec": {
      "display_name": "Python 3",
      "name": "python3"
    }
  },
  "nbformat": 4,
  "nbformat_minor": 0
}
