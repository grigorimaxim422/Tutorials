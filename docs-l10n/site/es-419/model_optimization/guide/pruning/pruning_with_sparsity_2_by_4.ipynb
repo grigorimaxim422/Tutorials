{
  "cells": [
    {
      "cell_type": "markdown",
      "metadata": {
        "id": "Tce3stUlHN0L"
      },
      "source": [
        "##### Copyright 2021 The TensorFlow Authors."
      ]
    },
    {
      "cell_type": "code",
      "execution_count": null,
      "metadata": {
        "cellView": "form",
        "id": "IcfrhafzkZbH"
      },
      "outputs": [],
      "source": [
        "#@title Licensed under the Apache License, Version 2.0 (the \"License\");\n",
        "# you may not use this file except in compliance with the License.\n",
        "# You may obtain a copy of the License at\n",
        "#\n",
        "# https://www.apache.org/licenses/LICENSE-2.0\n",
        "#\n",
        "# Unless required by applicable law or agreed to in writing, software\n",
        "# distributed under the License is distributed on an \"AS IS\" BASIS,\n",
        "# WITHOUT WARRANTIES OR CONDITIONS OF ANY KIND, either express or implied.\n",
        "# See the License for the specific language governing permissions and\n",
        "# limitations under the License."
      ]
    },
    {
      "cell_type": "markdown",
      "metadata": {
        "id": "qFdPvlXBOdUN"
      },
      "source": [
        "# Pesos dispersos con poda estructural"
      ]
    },
    {
      "cell_type": "markdown",
      "metadata": {
        "id": "MfBg1C5NB3X0"
      },
      "source": [
        "<table class=\"tfo-notebook-buttons\" align=\"left\">\n",
        "  <td>     <a target=\"_blank\" href=\"https://www.tensorflow.org/model_optimization/guide/pruning/pruning_with_sparsity_2_by_4\"><img src=\"https://www.tensorflow.org/images/tf_logo_32px.png\">Ver en TensorFlow.org</a>\n",
        "</td>\n",
        "  <td>     <a target=\"_blank\" href=\"https://colab.research.google.com/github/tensorflow/docs-l10n/blob/master/site/es-419/model_optimization/guide/pruning/pruning_with_sparsity_2_by_4.ipynb\"><img src=\"https://www.tensorflow.org/images/colab_logo_32px.png\">Ejecutar en Google Colab</a>\n",
        "</td>\n",
        "  <td>     <a target=\"_blank\" href=\"https://github.com/tensorflow/docs-l10n/blob/master/site/es-419/model_optimization/guide/pruning/pruning_with_sparsity_2_by_4.ipynb\"><img src=\"https://www.tensorflow.org/images/GitHub-Mark-32px.png\">Ver código fuente en GitHub</a>\n",
        "</td>\n",
        "  <td>     <a href=\"https://storage.googleapis.com/tensorflow_docs/docs-l10n/site/es-419/model_optimization/guide/pruning/pruning_with_sparsity_2_by_4.ipynb\"><img src=\"https://www.tensorflow.org/images/download_logo_32px.png\">Descargar el bloc de notas</a>\n",
        "</td>\n",
        "</table>"
      ]
    },
    {
      "cell_type": "markdown",
      "metadata": {
        "id": "FbORZA_bQx1G"
      },
      "source": [
        "Los pesos de su modelo con poda estructural para que sea disperso en un patrón específico pueden acelerar el tiempo de inferencia del modelo con las compatibilidades de los hardware adecuados.\n",
        "\n",
        "En este tutorial se muestra cómo:\n",
        "\n",
        "- Definir y entrenar un modelo en el conjunto de datos mnist con una dispersión estructural específica\n",
        "- Convertir el modelo podado al formato tflite\n",
        "- Visualizar la estructura de los pesos podados\n",
        "\n",
        "Para obtener una descripción general de la técnica de poda para la optimización del modelo, consulte la [descripción general de la poda](https://www.tensorflow.org/model_optimization/guide/pruning). Para ver un tutorial sobre la poda de pesos general, consulte [Poda en Keras](https://www.tensorflow.org/model_optimization/guide/pruning/pruning_with_keras)."
      ]
    },
    {
      "cell_type": "markdown",
      "metadata": {
        "id": "0f4SoBcoXNcb"
      },
      "source": [
        "## Poda estructural de pesos"
      ]
    },
    {
      "cell_type": "markdown",
      "metadata": {
        "id": "rn_a9362Wr_B"
      },
      "source": [
        "La poda estructural pone en cero sistemáticamente los pesos del modelo al inicio del proceso de entrenamiento. Estas técnicas de poda se aplican a bloques regulares de pesos para acelerar la inferencia en los hardware compatibles, por ejemplo: agrupar pesos en el modelo en bloques de cuatro y poner a cero dos de esos pesos en cada bloque, lo que se conoce como reducción de *2 por 4*. Esta técnica se aplica solo a la última dimensión del tensor de peso para el modelo que convierte TensorFlow Lite. Por ejemplo, los pesos de las capas `Conv2D` en TensorFlow Lite tienen la estructura `[channel_out, height, width, channel_in]` y los pesos de las capas `Dense` tienen la estructura `[channel_out, channel_in]`. El patrón de dispersión se aplica a los pesos en la última dimensión: `channel_in`.\n",
        "\n",
        "En comparación con la dispersión aleatoria, la dispersión estructurada generalmente tiene una precisión menor debido a una estructura restrictiva; sin embargo, puede reducir significativamente el tiempo de inferencia en el hardware compatible.\n",
        "\n",
        "La poda se puede aplicar a un modelo junto con otras técnicas de compresión de modelos para obtener una mejor tasa de compresión. Consulte ejemplos de cuantización y agrupación en [técnica colaborativa de optimización](https://blog.tensorflow.org/2021/10/Collaborative-Optimizations.html) para obtener más detalles."
      ]
    },
    {
      "cell_type": "markdown",
      "metadata": {
        "id": "nuABqZnXVDvO"
      },
      "source": [
        "## Preparación"
      ]
    },
    {
      "cell_type": "markdown",
      "metadata": {
        "id": "u9mRDekZEfnR"
      },
      "source": [
        "Prepare su entorno de desarrollo y sus datos."
      ]
    },
    {
      "cell_type": "code",
      "execution_count": null,
      "metadata": {
        "cellView": "both",
        "id": "lvpH1Hg7ULFz"
      },
      "outputs": [],
      "source": [
        "! pip install -q tensorflow\n",
        "! pip install -q tensorflow-model-optimization\n",
        "! pip install -q matplotlib"
      ]
    },
    {
      "cell_type": "code",
      "execution_count": null,
      "metadata": {
        "id": "_hn5e5_gWr_E"
      },
      "outputs": [],
      "source": [
        "import tensorflow as tf\n",
        "from tensorflow import keras\n",
        "\n",
        "import tensorflow_model_optimization as tfmot\n",
        "prune_low_magnitude = tfmot.sparsity.keras.prune_low_magnitude"
      ]
    },
    {
      "cell_type": "markdown",
      "metadata": {
        "id": "TZyLYFTER4aP"
      },
      "source": [
        "## Descargar y normalizar datos de imágenes del conjunto de datos [MNIST](https://www.tensorflow.org/datasets/catalog/mnist)"
      ]
    },
    {
      "cell_type": "code",
      "execution_count": null,
      "metadata": {
        "id": "hSf4jYKGWr_E"
      },
      "outputs": [],
      "source": [
        "# Load MNIST dataset.\n",
        "mnist = keras.datasets.mnist\n",
        "(train_images, train_labels), (test_images, test_labels) = mnist.load_data()\n",
        "\n",
        "# Normalize the input image so that each pixel value is between 0 and 1.\n",
        "train_images = train_images / 255.0\n",
        "test_images = test_images / 255.0"
      ]
    },
    {
      "cell_type": "markdown",
      "metadata": {
        "id": "LKaL3XH1XO0Q"
      },
      "source": [
        "## Definir los parámetros de poda estructural"
      ]
    },
    {
      "cell_type": "markdown",
      "metadata": {
        "id": "s9_33ta-Wr_E"
      },
      "source": [
        "Defina los parámetros de poda y especifíque el tipo de poda estructural. Establezca los parámetros para la poda en `(2, 4)`. Estos ajustes significan que en un bloque de cuatro elementos, al menos dos con la magnitud más baja se ponen a cero.\n",
        "\n",
        "No es necesario configurar el parámetro `pruning_schedule`. De forma predeterminada, la máscara de poda se define en el primer paso y no se actualiza durante el entrenamiento."
      ]
    },
    {
      "cell_type": "code",
      "execution_count": null,
      "metadata": {
        "id": "1EXNYAPJWr_F"
      },
      "outputs": [],
      "source": [
        "pruning_params_2_by_4 = {\n",
        "    'sparsity_m_by_n': (2, 4),\n",
        "}"
      ]
    },
    {
      "cell_type": "markdown",
      "metadata": {
        "id": "mMKdsdAUWr_F"
      },
      "source": [
        "Defina los parámetros para una poda aleatoria con una dispersión prevista del 50 %."
      ]
    },
    {
      "cell_type": "code",
      "execution_count": null,
      "metadata": {
        "id": "un24AZUOWr_F"
      },
      "outputs": [],
      "source": [
        "pruning_params_sparsity_0_5 = {\n",
        "    'pruning_schedule': tfmot.sparsity.keras.ConstantSparsity(target_sparsity=0.5,\n",
        "                                                              begin_step=0,\n",
        "                                                              frequency=100)\n",
        "}"
      ]
    },
    {
      "cell_type": "markdown",
      "metadata": {
        "id": "jV4Yt0v5Wr_G"
      },
      "source": [
        "Defina la arquitectura del modelo y especifique qué capas podar. La poda estructural se aplica en función de las capas del modelo que seleccione.\n",
        "\n",
        "En el siguiente ejemplo, podamos solo algunas de las capas. Podamos la segunda capa `Conv2D` y la primera capa `Dense`.\n",
        "\n",
        "Tenga en cuenta que la primera capa `Conv2D` no se puede podar estructuralmente. Para podarla estructuralmente, debe tener más de un canal de entrada. En su lugar, podamos la primera capa `Conv2D` con poda aleatoria."
      ]
    },
    {
      "cell_type": "code",
      "execution_count": null,
      "metadata": {
        "id": "BDGzC6YlWr_G"
      },
      "outputs": [],
      "source": [
        "model = keras.Sequential([\n",
        "    prune_low_magnitude(\n",
        "        keras.layers.Conv2D(\n",
        "            32, 5, padding='same', activation='relu',\n",
        "            input_shape=(28, 28, 1),\n",
        "            name=\"pruning_sparsity_0_5\"),\n",
        "        **pruning_params_sparsity_0_5),\n",
        "    keras.layers.MaxPooling2D((2, 2), (2, 2), padding='same'),\n",
        "    prune_low_magnitude(\n",
        "        keras.layers.Conv2D(\n",
        "            64, 5, padding='same',\n",
        "            name=\"structural_pruning\"),\n",
        "        **pruning_params_2_by_4),\n",
        "    keras.layers.BatchNormalization(),\n",
        "    keras.layers.ReLU(),\n",
        "    keras.layers.MaxPooling2D((2, 2), (2, 2), padding='same'),\n",
        "    keras.layers.Flatten(),\n",
        "    prune_low_magnitude(\n",
        "        keras.layers.Dense(\n",
        "            1024, activation='relu',\n",
        "            name=\"structural_pruning_dense\"),\n",
        "        **pruning_params_2_by_4),\n",
        "    keras.layers.Dropout(0.4),\n",
        "    keras.layers.Dense(10)\n",
        "])\n",
        "\n",
        "model.compile(optimizer='adam',\n",
        "              loss=keras.losses.SparseCategoricalCrossentropy(from_logits=True),\n",
        "              metrics=['accuracy'])\n",
        "\n",
        "model.summary()"
      ]
    },
    {
      "cell_type": "markdown",
      "metadata": {
        "id": "U_ddzMppWr_G"
      },
      "source": [
        "Entrene y evalúe el modelo."
      ]
    },
    {
      "cell_type": "code",
      "execution_count": null,
      "metadata": {
        "id": "F4CnppA1Wr_H"
      },
      "outputs": [],
      "source": [
        "batch_size = 128\n",
        "epochs = 2\n",
        "\n",
        "model.fit(\n",
        "    train_images,\n",
        "    train_labels,\n",
        "    batch_size=batch_size,\n",
        "    epochs=epochs,\n",
        "    verbose=0,\n",
        "    callbacks=tfmot.sparsity.keras.UpdatePruningStep(),\n",
        "    validation_split=0.1)\n",
        "\n",
        "_, pruned_model_accuracy = model.evaluate(test_images, test_labels, verbose=0)\n",
        "print('Pruned test accuracy:', pruned_model_accuracy)"
      ]
    },
    {
      "cell_type": "markdown",
      "metadata": {
        "id": "bA8EDPHMWr_H"
      },
      "source": [
        "Elimine el contenedor de poda para que no se incluya en el modelo cuando lo convierta al formato TensorFlow Lite."
      ]
    },
    {
      "cell_type": "code",
      "execution_count": null,
      "metadata": {
        "id": "3wn-OQ_gWr_H"
      },
      "outputs": [],
      "source": [
        "model = tfmot.sparsity.keras.strip_pruning(model)"
      ]
    },
    {
      "cell_type": "markdown",
      "metadata": {
        "id": "eM28m66YWr_H"
      },
      "source": [
        "## Convertir modelo a formato tflite"
      ]
    },
    {
      "cell_type": "code",
      "execution_count": null,
      "metadata": {
        "id": "EJ7DsA6-Wr_I"
      },
      "outputs": [],
      "source": [
        "import tempfile\n",
        "\n",
        "converter = tf.lite.TFLiteConverter.from_keras_model(model)\n",
        "tflite_model = converter.convert()\n",
        "\n",
        "_, tflite_file = tempfile.mkstemp('.tflite')\n",
        "print('Saved converted pruned model to:', tflite_file)\n",
        "with open(tflite_file, 'wb') as f:\n",
        "  f.write(tflite_model)"
      ]
    },
    {
      "cell_type": "markdown",
      "metadata": {
        "id": "S44x9Rz3Wr_I"
      },
      "source": [
        "## Visualizar y comprobar pesos"
      ]
    },
    {
      "cell_type": "markdown",
      "metadata": {
        "id": "_CTu0wxFWr_J"
      },
      "source": [
        "Ahora visualice la estructura de pesos en la capa `Dense` podada con dispersión de 2 por 4. Extraiga los pesos del archivo tflite."
      ]
    },
    {
      "cell_type": "code",
      "execution_count": null,
      "metadata": {
        "id": "fOIp6QB5Wr_J"
      },
      "outputs": [],
      "source": [
        "# Load tflite file with the created pruned model\n",
        "interpreter = tf.lite.Interpreter(model_path=tflite_file)\n",
        "interpreter.allocate_tensors()\n",
        "\n",
        "details = interpreter.get_tensor_details()\n",
        "\n",
        "# Weights of the dense layer that has been pruned.\n",
        "tensor_name = 'structural_pruning_dense/MatMul'\n",
        "detail = [x for x in details if tensor_name in x[\"name\"]]\n",
        "\n",
        "# We need the first layer.\n",
        "tensor_data = interpreter.tensor(detail[0][\"index\"])()"
      ]
    },
    {
      "cell_type": "markdown",
      "metadata": {
        "id": "yy0jTs_QWr_K"
      },
      "source": [
        "Para verificar que seleccionamos la capa correcta que se podó, imprima la forma del tensor de peso."
      ]
    },
    {
      "cell_type": "code",
      "execution_count": null,
      "metadata": {
        "id": "mCDkwMUPWr_K"
      },
      "outputs": [],
      "source": [
        "print(f\"Shape of Dense layer is {tensor_data.shape}\")"
      ]
    },
    {
      "cell_type": "markdown",
      "metadata": {
        "id": "mvYTILeUWr_K"
      },
      "source": [
        "Ahora visualizamos la estructura de un pequeño subconjunto del tensor de peso. La estructura del tensor de peso es dispersa en la última dimensión, con el patrón `(2,4)`: dos de cuatro elementos son ceros. Para que la visualización sea más clara, reemplazamos todos los valores distintos de cero por unos."
      ]
    },
    {
      "cell_type": "code",
      "execution_count": null,
      "metadata": {
        "id": "WZfn34bRWr_K"
      },
      "outputs": [],
      "source": [
        "import matplotlib.pyplot as plt\n",
        "import numpy as np\n",
        "\n",
        "# The value 24 is chosen for convenience.\n",
        "width = height = 24\n",
        "\n",
        "subset_values_to_display = tensor_data[0:height, 0:width]\n",
        "\n",
        "val_ones = np.ones([height, width])\n",
        "val_zeros = np.zeros([height, width])\n",
        "subset_values_to_display = np.where(abs(subset_values_to_display) > 0, val_ones, val_zeros)"
      ]
    },
    {
      "cell_type": "markdown",
      "metadata": {
        "id": "fOfWvKwKWr_L"
      },
      "source": [
        "Defina la función ayudante para dibujar líneas de separación para ver la estructura con claridad."
      ]
    },
    {
      "cell_type": "code",
      "execution_count": null,
      "metadata": {
        "id": "LUplruw9Wr_L"
      },
      "outputs": [],
      "source": [
        "def plot_separation_lines(height, width):\n",
        "\n",
        "    block_size = [1, 4]\n",
        "\n",
        "    # Add separation lines to the figure.\n",
        "    num_hlines = int((height - 1) / block_size[0])\n",
        "    num_vlines = int((width - 1) / block_size[1])\n",
        "    line_y_pos = [y * block_size[0] for y in range(1, num_hlines + 1)]\n",
        "    line_x_pos = [x * block_size[1] for x in range(1, num_vlines + 1)]\n",
        "\n",
        "    for y_pos in line_y_pos:\n",
        "        plt.plot([-0.5, width], [y_pos - 0.5 , y_pos - 0.5], color='w')\n",
        "\n",
        "    for x_pos in line_x_pos:\n",
        "        plt.plot([x_pos - 0.5, x_pos - 0.5], [-0.5, height], color='w')"
      ]
    },
    {
      "cell_type": "markdown",
      "metadata": {
        "id": "sbyjrRgLWr_L"
      },
      "source": [
        "Ahora visualice el subconjunto del tensor de peso."
      ]
    },
    {
      "cell_type": "code",
      "execution_count": null,
      "metadata": {
        "id": "ATeyf5vCWr_L"
      },
      "outputs": [],
      "source": [
        "plot_separation_lines(height, width)\n",
        "\n",
        "plt.axis('off')\n",
        "plt.imshow(subset_values_to_display)\n",
        "plt.colorbar()\n",
        "plt.title(\"Structural pruning for Dense layer\")\n",
        "plt.show()"
      ]
    },
    {
      "cell_type": "markdown",
      "metadata": {
        "id": "72f7VlOLWr_M"
      },
      "source": [
        "Visualice los pesos de la capa `Conv2D`. La dispersión estructural se aplica en el último canal, similar a la capa `Dense`. Sólo la segunda capa `Conv2D` se poda estructuralmente como se señaló anteriormente."
      ]
    },
    {
      "cell_type": "code",
      "execution_count": null,
      "metadata": {
        "id": "_Dkbt7eRWr_M"
      },
      "outputs": [],
      "source": [
        "# Get weights of the convolutional layer that has been pruned with 2 by 4 sparsity.\n",
        "tensor_name = 'structural_pruning/Conv2D'\n",
        "detail = [x for x in details if tensor_name in x[\"name\"]]\n",
        "tensor_data = interpreter.tensor(detail[1][\"index\"])()\n",
        "print(f\"Shape of the weight tensor is {tensor_data.shape}\")"
      ]
    },
    {
      "cell_type": "markdown",
      "metadata": {
        "id": "m7a6uTdLWr_M"
      },
      "source": [
        "De manera similar a los pesos de la capa `Dense`, la última dimensión del núcleo tiene una estructura (2, 4)."
      ]
    },
    {
      "cell_type": "code",
      "execution_count": null,
      "metadata": {
        "id": "wyvLpfa6Wr_M"
      },
      "outputs": [],
      "source": [
        "weights_to_display = tf.reshape(tensor_data, [tf.reduce_prod(tensor_data.shape[:-1]), -1])\n",
        "weights_to_display = weights_to_display[0:width, 0:height]\n",
        "\n",
        "val_ones = np.ones([height, width])\n",
        "val_zeros = np.zeros([height, width])\n",
        "subset_values_to_display = np.where(abs(weights_to_display) > 1e-9, val_ones, val_zeros)\n",
        "\n",
        "plot_separation_lines(height, width)\n",
        "\n",
        "plt.axis('off')\n",
        "plt.imshow(subset_values_to_display)\n",
        "plt.colorbar()\n",
        "plt.title(\"Structurally pruned weights for Conv2D layer\")\n",
        "plt.show()"
      ]
    },
    {
      "cell_type": "markdown",
      "metadata": {
        "id": "1aX2O8w0Wr_M"
      },
      "source": [
        "Veamos cómo se ven esos pesos podados de forma aleatoria. Los extraemos y mostramos un subconjunto del tensor de peso."
      ]
    },
    {
      "cell_type": "code",
      "execution_count": null,
      "metadata": {
        "id": "eEHu5nizWr_M"
      },
      "outputs": [],
      "source": [
        "# Get weights of the convolutional layer that has been pruned with random pruning.\n",
        "tensor_name = 'pruning_sparsity_0_5/Conv2D'\n",
        "detail = [x for x in details if tensor_name in x[\"name\"]]\n",
        "tensor_data = interpreter.tensor(detail[0][\"index\"])()\n",
        "print(f\"Shape of the weight tensor is {tensor_data.shape}\")"
      ]
    },
    {
      "cell_type": "code",
      "execution_count": null,
      "metadata": {
        "id": "Cimzp3kVWr_M"
      },
      "outputs": [],
      "source": [
        "weights_to_display = tf.reshape(tensor_data, [tensor_data.shape[0],tf.reduce_prod(tensor_data.shape[1:])])\n",
        "weights_to_display = weights_to_display[0:width, 0:height]\n",
        "\n",
        "val_ones = np.ones([height, width])\n",
        "val_zeros = np.zeros([height, width])\n",
        "subset_values_to_display = np.where(abs(weights_to_display) > 0, val_ones, val_zeros)\n",
        "\n",
        "plot_separation_lines(height, width)\n",
        "\n",
        "plt.axis('off')\n",
        "plt.imshow(subset_values_to_display)\n",
        "plt.colorbar()\n",
        "plt.title(\"Unstructed pruned weights for Conv2D layer\")\n",
        "plt.show()"
      ]
    },
    {
      "cell_type": "markdown",
      "metadata": {
        "id": "vqsfZdMpWr_N"
      },
      "source": [
        "El kit de herramientas de optimización de modelos de TensorFlow incluye un script de Python que se puede usar para verificar si las capas del modelo del archivo tflite proporcionadas tienen los pesos estructuralmente podados: [`check_sparsity_m_by_n.py`](https://github.com/tensorflow/model-optimization/blob/master/tensorflow_model_optimization/python/core/sparsity/keras/tools/check_sparsity_m_by_n.py). El siguiente comando demuestra cómo usar esta herramienta para comprobar la dispersión de 2 por 4 en un modelo específico."
      ]
    },
    {
      "cell_type": "code",
      "execution_count": null,
      "metadata": {
        "id": "7HDYffebWr_N"
      },
      "outputs": [],
      "source": [
        "! python3 ./tensorflow_model_optimization/python/core/sparsity/keras/tools/check_sparsity_m_by_n.py --model_tflite=pruned_model.tflite --m_by_n=2,4\n"
      ]
    }
  ],
  "metadata": {
    "colab": {
      "collapsed_sections": [
        "Tce3stUlHN0L"
      ],
      "name": "pruning_with_sparsity_2_by_4.ipynb",
      "toc_visible": true
    },
    "kernelspec": {
      "display_name": "Python 3",
      "name": "python3"
    }
  },
  "nbformat": 4,
  "nbformat_minor": 0
}
